{
 "cells": [
  {
   "cell_type": "code",
   "execution_count": 3,
   "metadata": {
    "ExecuteTime": {
     "end_time": "2021-10-27T13:27:10.080799Z",
     "start_time": "2021-10-27T13:27:10.076234Z"
    }
   },
   "outputs": [],
   "source": [
    "import warnings\n",
    "warnings.filterwarnings(\"ignore\")"
   ]
  },
  {
   "cell_type": "code",
   "execution_count": 4,
   "metadata": {
    "ExecuteTime": {
     "end_time": "2021-10-27T13:27:11.451381Z",
     "start_time": "2021-10-27T13:27:11.441434Z"
    }
   },
   "outputs": [],
   "source": [
    "%matplotlib inline\n",
    "\n",
    "import matplotlib.pyplot as plt\n",
    "import seaborn as sns\n",
    "import numpy as np\n",
    "import pandas as pd\n"
   ]
  },
  {
   "cell_type": "code",
   "execution_count": 5,
   "metadata": {
    "ExecuteTime": {
     "end_time": "2021-10-27T13:27:12.619150Z",
     "start_time": "2021-10-27T13:27:12.615517Z"
    }
   },
   "outputs": [],
   "source": [
    "import tensorflow as tf\n",
    "\n"
   ]
  },
  {
   "cell_type": "code",
   "execution_count": 6,
   "metadata": {
    "ExecuteTime": {
     "end_time": "2021-10-28T13:03:36.742079Z",
     "start_time": "2021-10-28T13:03:36.736645Z"
    }
   },
   "outputs": [],
   "source": [
    "np.random.seed(1337)  \n",
    "import tensorflow as tf\n",
    "from tensorflow.keras.preprocessing import sequence\n",
    "from tensorflow.keras.models import Sequential\n",
    "from tensorflow.keras.layers import Dense, Dropout, Embedding, LSTM, Bidirectional, SimpleRNN, GRU\n",
    "from tensorflow.keras.layers import Flatten\n",
    "from tensorflow.keras.datasets import imdb\n"
   ]
  },
  {
   "cell_type": "code",
   "execution_count": 7,
   "metadata": {
    "ExecuteTime": {
     "end_time": "2021-10-28T13:04:44.307879Z",
     "start_time": "2021-10-28T13:04:37.687671Z"
    }
   },
   "outputs": [
    {
     "name": "stdout",
     "output_type": "stream",
     "text": [
      "Loading data...\n",
      "25000 train sequences\n",
      "25000 test sequences\n"
     ]
    }
   ],
   "source": [
    "\n",
    "max_features = 20000\n",
    "# number of words in my vocabulary shouldn't be more than 200000\n",
    "maxlen = 100  \n",
    "print('Loading data...')\n",
    "\n",
    "# this dataset is already pre processed \n",
    "(X_train, y_train), (X_test, y_test) = tf.keras.datasets.imdb.load_data(num_words=max_features)\n",
    "print(len(X_train), 'train sequences')\n",
    "print(len(X_test), 'test sequences')"
   ]
  },
  {
   "cell_type": "markdown",
   "metadata": {},
   "source": [
    "#### suppose this \n",
    "- r1 = I love this food \n",
    "- r2 = I hate this food\n",
    "- r3 = This place is great\n",
    "\n",
    "#### an index is given to each unique word \n",
    "- I -->0\n",
    "- love -->1\n",
    "- hate -->2\n",
    "- this  -->3\n",
    "- food -->4\n",
    "- place -->5\n",
    "- is -->6\n",
    "- great -->7\n",
    "\n",
    "#### the review is written as a numeric vector, using the indicies given to each to each unique word\n",
    "- r1 = [0,1,3,4]\n",
    "- r2 = [0,2,3,4]\n",
    "- r3 = [3,5,6,7]"
   ]
  },
  {
   "cell_type": "code",
   "execution_count": 8,
   "metadata": {},
   "outputs": [
    {
     "data": {
      "text/plain": [
       "189"
      ]
     },
     "execution_count": 8,
     "metadata": {},
     "output_type": "execute_result"
    }
   ],
   "source": [
    "# length of 1st review, aka number of words \n",
    "len(X_train[1])"
   ]
  },
  {
   "cell_type": "code",
   "execution_count": 9,
   "metadata": {},
   "outputs": [
    {
     "data": {
      "text/plain": [
       "562"
      ]
     },
     "execution_count": 9,
     "metadata": {},
     "output_type": "execute_result"
    }
   ],
   "source": [
    "\n",
    "len(X_train[7])"
   ]
  },
  {
   "cell_type": "code",
   "execution_count": 10,
   "metadata": {},
   "outputs": [
    {
     "data": {
      "text/plain": [
       "array([list([1, 14, 22, 16, 43, 530, 973, 1622, 1385, 65, 458, 4468, 66, 3941, 4, 173, 36, 256, 5, 25, 100, 43, 838, 112, 50, 670, 2, 9, 35, 480, 284, 5, 150, 4, 172, 112, 167, 2, 336, 385, 39, 4, 172, 4536, 1111, 17, 546, 38, 13, 447, 4, 192, 50, 16, 6, 147, 2025, 19, 14, 22, 4, 1920, 4613, 469, 4, 22, 71, 87, 12, 16, 43, 530, 38, 76, 15, 13, 1247, 4, 22, 17, 515, 17, 12, 16, 626, 18, 19193, 5, 62, 386, 12, 8, 316, 8, 106, 5, 4, 2223, 5244, 16, 480, 66, 3785, 33, 4, 130, 12, 16, 38, 619, 5, 25, 124, 51, 36, 135, 48, 25, 1415, 33, 6, 22, 12, 215, 28, 77, 52, 5, 14, 407, 16, 82, 10311, 8, 4, 107, 117, 5952, 15, 256, 4, 2, 7, 3766, 5, 723, 36, 71, 43, 530, 476, 26, 400, 317, 46, 7, 4, 12118, 1029, 13, 104, 88, 4, 381, 15, 297, 98, 32, 2071, 56, 26, 141, 6, 194, 7486, 18, 4, 226, 22, 21, 134, 476, 26, 480, 5, 144, 30, 5535, 18, 51, 36, 28, 224, 92, 25, 104, 4, 226, 65, 16, 38, 1334, 88, 12, 16, 283, 5, 16, 4472, 113, 103, 32, 15, 16, 5345, 19, 178, 32]),\n",
       "       list([1, 194, 1153, 194, 8255, 78, 228, 5, 6, 1463, 4369, 5012, 134, 26, 4, 715, 8, 118, 1634, 14, 394, 20, 13, 119, 954, 189, 102, 5, 207, 110, 3103, 21, 14, 69, 188, 8, 30, 23, 7, 4, 249, 126, 93, 4, 114, 9, 2300, 1523, 5, 647, 4, 116, 9, 35, 8163, 4, 229, 9, 340, 1322, 4, 118, 9, 4, 130, 4901, 19, 4, 1002, 5, 89, 29, 952, 46, 37, 4, 455, 9, 45, 43, 38, 1543, 1905, 398, 4, 1649, 26, 6853, 5, 163, 11, 3215, 10156, 4, 1153, 9, 194, 775, 7, 8255, 11596, 349, 2637, 148, 605, 15358, 8003, 15, 123, 125, 68, 2, 6853, 15, 349, 165, 4362, 98, 5, 4, 228, 9, 43, 2, 1157, 15, 299, 120, 5, 120, 174, 11, 220, 175, 136, 50, 9, 4373, 228, 8255, 5, 2, 656, 245, 2350, 5, 4, 9837, 131, 152, 491, 18, 2, 32, 7464, 1212, 14, 9, 6, 371, 78, 22, 625, 64, 1382, 9, 8, 168, 145, 23, 4, 1690, 15, 16, 4, 1355, 5, 28, 6, 52, 154, 462, 33, 89, 78, 285, 16, 145, 95]),\n",
       "       list([1, 14, 47, 8, 30, 31, 7, 4, 249, 108, 7, 4, 5974, 54, 61, 369, 13, 71, 149, 14, 22, 112, 4, 2401, 311, 12, 16, 3711, 33, 75, 43, 1829, 296, 4, 86, 320, 35, 534, 19, 263, 4821, 1301, 4, 1873, 33, 89, 78, 12, 66, 16, 4, 360, 7, 4, 58, 316, 334, 11, 4, 1716, 43, 645, 662, 8, 257, 85, 1200, 42, 1228, 2578, 83, 68, 3912, 15, 36, 165, 1539, 278, 36, 69, 2, 780, 8, 106, 14, 6905, 1338, 18, 6, 22, 12, 215, 28, 610, 40, 6, 87, 326, 23, 2300, 21, 23, 22, 12, 272, 40, 57, 31, 11, 4, 22, 47, 6, 2307, 51, 9, 170, 23, 595, 116, 595, 1352, 13, 191, 79, 638, 89, 2, 14, 9, 8, 106, 607, 624, 35, 534, 6, 227, 7, 129, 113]),\n",
       "       ...,\n",
       "       list([1, 11, 6, 230, 245, 6401, 9, 6, 1225, 446, 2, 45, 2174, 84, 8322, 4007, 21, 4, 912, 84, 14532, 325, 725, 134, 15271, 1715, 84, 5, 36, 28, 57, 1099, 21, 8, 140, 8, 703, 5, 11656, 84, 56, 18, 1644, 14, 9, 31, 7, 4, 9406, 1209, 2295, 2, 1008, 18, 6, 20, 207, 110, 563, 12, 8, 2901, 17793, 8, 97, 6, 20, 53, 4767, 74, 4, 460, 364, 1273, 29, 270, 11, 960, 108, 45, 40, 29, 2961, 395, 11, 6, 4065, 500, 7, 14492, 89, 364, 70, 29, 140, 4, 64, 4780, 11, 4, 2678, 26, 178, 4, 529, 443, 17793, 5, 27, 710, 117, 2, 8123, 165, 47, 84, 37, 131, 818, 14, 595, 10, 10, 61, 1242, 1209, 10, 10, 288, 2260, 1702, 34, 2901, 17793, 4, 65, 496, 4, 231, 7, 790, 5, 6, 320, 234, 2766, 234, 1119, 1574, 7, 496, 4, 139, 929, 2901, 17793, 7750, 5, 4241, 18, 4, 8497, 13164, 250, 11, 1818, 7561, 4, 4217, 5408, 747, 1115, 372, 1890, 1006, 541, 9303, 7, 4, 59, 11027, 4, 3586, 2]),\n",
       "       list([1, 1446, 7079, 69, 72, 3305, 13, 610, 930, 8, 12, 582, 23, 5, 16, 484, 685, 54, 349, 11, 4120, 2959, 45, 58, 1466, 13, 197, 12, 16, 43, 23, 2, 5, 62, 30, 145, 402, 11, 4131, 51, 575, 32, 61, 369, 71, 66, 770, 12, 1054, 75, 100, 2198, 8, 4, 105, 37, 69, 147, 712, 75, 3543, 44, 257, 390, 5, 69, 263, 514, 105, 50, 286, 1814, 23, 4, 123, 13, 161, 40, 5, 421, 4, 116, 16, 897, 13, 2, 40, 319, 5872, 112, 6700, 11, 4803, 121, 25, 70, 3468, 4, 719, 3798, 13, 18, 31, 62, 40, 8, 7200, 4, 2, 7, 14, 123, 5, 942, 25, 8, 721, 12, 145, 5, 202, 12, 160, 580, 202, 12, 6, 52, 58, 11418, 92, 401, 728, 12, 39, 14, 251, 8, 15, 251, 5, 2, 12, 38, 84, 80, 124, 12, 9, 23]),\n",
       "       list([1, 17, 6, 194, 337, 7, 4, 204, 22, 45, 254, 8, 106, 14, 123, 4, 12815, 270, 14437, 5, 16923, 12255, 732, 2098, 101, 405, 39, 14, 1034, 4, 1310, 9, 115, 50, 305, 12, 47, 4, 168, 5, 235, 7, 38, 111, 699, 102, 7, 4, 4039, 9245, 9, 24, 6, 78, 1099, 17, 2345, 16553, 21, 27, 9685, 6139, 5, 2, 1603, 92, 1183, 4, 1310, 7, 4, 204, 42, 97, 90, 35, 221, 109, 29, 127, 27, 118, 8, 97, 12, 157, 21, 6789, 2, 9, 6, 66, 78, 1099, 4, 631, 1191, 5, 2642, 272, 191, 1070, 6, 7585, 8, 2197, 2, 10755, 544, 5, 383, 1271, 848, 1468, 12183, 497, 16876, 8, 1597, 8778, 19280, 21, 60, 27, 239, 9, 43, 8368, 209, 405, 10, 10, 12, 764, 40, 4, 248, 20, 12, 16, 5, 174, 1791, 72, 7, 51, 6, 1739, 22, 4, 204, 131, 9])],\n",
       "      dtype=object)"
      ]
     },
     "execution_count": 10,
     "metadata": {},
     "output_type": "execute_result"
    }
   ],
   "source": [
    "\n",
    "X_train"
   ]
  },
  {
   "cell_type": "code",
   "execution_count": 11,
   "metadata": {
    "ExecuteTime": {
     "end_time": "2021-10-28T13:04:45.016728Z",
     "start_time": "2021-10-28T13:04:44.310948Z"
    }
   },
   "outputs": [
    {
     "name": "stdout",
     "output_type": "stream",
     "text": [
      "X_train shape(before pad_sequences):  (25000,)\n",
      "X_test shape(before pad_sequences):  (25000,)\n",
      "Pad sequences (samples x time)\n",
      "X_train shape: (25000, 100)\n",
      "X_test shape: (25000, 100)\n"
     ]
    }
   ],
   "source": [
    "\n",
    "\n",
    "print('X_train shape(before pad_sequences): ', X_train.shape)\n",
    "print('X_test shape(before pad_sequences): ', X_train.shape)\n",
    "\n",
    "print(\"Pad sequences (samples x time)\")\n",
    "\n",
    "# as you can see in the output, the shape of X_train and X_test is 25000 reviews with 100 words each  \n",
    "X_train = tf.keras.preprocessing.sequence.pad_sequences(X_train, maxlen=maxlen)\n",
    "X_test = tf.keras.preprocessing.sequence.pad_sequences(X_test, maxlen=maxlen)\n",
    "print('X_train shape:', X_train.shape)\n",
    "print('X_test shape:', X_test.shape)\n",
    "\n",
    "y_train = np.array(y_train)\n",
    "y_test = np.array(y_test)"
   ]
  },
  {
   "cell_type": "markdown",
   "metadata": {},
   "source": [
    "# LSTM"
   ]
  },
  {
   "cell_type": "code",
   "execution_count": 12,
   "metadata": {},
   "outputs": [],
   "source": [
    "layers = 128\n",
    "dropout = 0.2\n",
    "epochs = 3\n",
    "batch_size = 128"
   ]
  },
  {
   "cell_type": "code",
   "execution_count": 13,
   "metadata": {},
   "outputs": [
    {
     "data": {
      "text/plain": [
       "keras.layers.core.embedding.Embedding"
      ]
     },
     "execution_count": 13,
     "metadata": {},
     "output_type": "execute_result"
    }
   ],
   "source": [
    "tf.keras.layers.Embedding"
   ]
  },
  {
   "cell_type": "code",
   "execution_count": 14,
   "metadata": {
    "ExecuteTime": {
     "end_time": "2021-10-27T13:30:42.338348Z",
     "start_time": "2021-10-27T13:30:41.803431Z"
    }
   },
   "outputs": [
    {
     "name": "stderr",
     "output_type": "stream",
     "text": [
      "2022-12-08 10:35:38.816506: I tensorflow/core/platform/cpu_feature_guard.cc:193] This TensorFlow binary is optimized with oneAPI Deep Neural Network Library (oneDNN) to use the following CPU instructions in performance-critical operations:  AVX2 FMA\n",
      "To enable them in other operations, rebuild TensorFlow with the appropriate compiler flags.\n"
     ]
    },
    {
     "name": "stdout",
     "output_type": "stream",
     "text": [
      "Model: \"sequential\"\n",
      "_________________________________________________________________\n",
      " Layer (type)                Output Shape              Param #   \n",
      "=================================================================\n",
      " embedding (Embedding)       (None, 100, 128)          2560000   \n",
      "                                                                 \n",
      " lstm (LSTM)                 (None, 128)               131584    \n",
      "                                                                 \n",
      " dropout (Dropout)           (None, 128)               0         \n",
      "                                                                 \n",
      " dense (Dense)               (None, 1)                 129       \n",
      "                                                                 \n",
      "=================================================================\n",
      "Total params: 2,691,713\n",
      "Trainable params: 2,691,713\n",
      "Non-trainable params: 0\n",
      "_________________________________________________________________\n"
     ]
    }
   ],
   "source": [
    "model = tf.keras.models.Sequential()\n",
    "# embedding layer converts words into vectors \n",
    "model.add(tf.keras.layers.Embedding(max_features, 128, input_length=maxlen))\n",
    "# then we put these 100 vectors into LSTM layers \n",
    "model.add(tf.keras.layers.LSTM(layers))\n",
    "# LSTM will give you two vector outputs: C and H \n",
    "# we take only C and use C as the input for the next layer\n",
    "model.add(tf.keras.layers.Dropout(dropout))\n",
    "# then we have an output layer with a single node\n",
    "model.add(tf.keras.layers.Dense(1, activation='sigmoid'))\n",
    "\n",
    "\n",
    "model.compile('adam', 'binary_crossentropy', metrics=['accuracy'])\n",
    "\n",
    "model.summary()"
   ]
  },
  {
   "cell_type": "markdown",
   "metadata": {},
   "source": [
    "#### While dealing with NLP problems, we can use pre-trained word embeddings such as GloVe."
   ]
  },
  {
   "cell_type": "code",
   "execution_count": 15,
   "metadata": {
    "ExecuteTime": {
     "end_time": "2021-10-27T13:32:38.079247Z",
     "start_time": "2021-10-27T13:30:46.185946Z"
    }
   },
   "outputs": [
    {
     "name": "stdout",
     "output_type": "stream",
     "text": [
      "Epoch 1/3\n",
      "157/157 [==============================] - 150s 919ms/step - loss: 0.4603 - accuracy: 0.7691 - val_loss: 0.3678 - val_accuracy: 0.8398\n",
      "Epoch 2/3\n",
      "157/157 [==============================] - 76s 482ms/step - loss: 0.2450 - accuracy: 0.9054 - val_loss: 0.3610 - val_accuracy: 0.8486\n",
      "Epoch 3/3\n",
      "157/157 [==============================] - 92s 590ms/step - loss: 0.1527 - accuracy: 0.9445 - val_loss: 0.3914 - val_accuracy: 0.8424\n"
     ]
    }
   ],
   "source": [
    "history = model.fit(X_train, y_train,\n",
    "                    epochs=epochs,\n",
    "                    batch_size=batch_size,\n",
    "                    validation_split=0.2)"
   ]
  },
  {
   "cell_type": "code",
   "execution_count": 16,
   "metadata": {
    "ExecuteTime": {
     "end_time": "2021-10-27T13:35:42.409961Z",
     "start_time": "2021-10-27T13:35:42.404982Z"
    }
   },
   "outputs": [],
   "source": [
    "# training data accuracy\n",
    "acc = history.history['accuracy']\n",
    "# training data loss\n",
    "val_acc = history.history['val_accuracy']\n",
    "# testing data accuracy\n",
    "loss = history.history['loss']\n",
    "# testing data loss \n",
    "val_loss = history.history['val_loss']\n",
    "\n"
   ]
  },
  {
   "cell_type": "code",
   "execution_count": 17,
   "metadata": {
    "ExecuteTime": {
     "end_time": "2021-10-27T13:37:06.687968Z",
     "start_time": "2021-10-27T13:37:06.313543Z"
    }
   },
   "outputs": [
    {
     "data": {
      "image/png": "[encoded data removed]",
      "text/plain": [
       "<Figure size 432x288 with 1 Axes>"
      ]
     },
     "metadata": {
      "needs_background": "light"
     },
     "output_type": "display_data"
    },
    {
     "data": {
      "image/png": "[encoded data removed]",
      "text/plain": [
       "<Figure size 432x288 with 1 Axes>"
      ]
     },
     "metadata": {
      "needs_background": "light"
     },
     "output_type": "display_data"
    }
   ],
   "source": [
    "# plotting what training accuracy and testing accuracy looks like after each epoch \n",
    "# plotting what training loss and testing loss looks like after each epoch \n",
    "import matplotlib.pyplot as plt\n",
    "\n",
    "epochs = range(1, len(acc) + 1)\n",
    "\n",
    "plt.plot(epochs, acc, 'b', label='Training acc',color=\"red\")\n",
    "plt.plot(epochs, val_acc, 'b', label='Validation acc')\n",
    "plt.title('Training and validation accuracy')\n",
    "plt.legend()\n",
    "\n",
    "plt.figure()\n",
    "\n",
    "plt.plot(epochs, loss, 'b', label='Training loss',color=\"red\")\n",
    "plt.plot(epochs, val_loss, 'b', label='Validation loss')\n",
    "plt.title('Training and validation loss')\n",
    "plt.legend()\n",
    "\n",
    "plt.show()\n"
   ]
  },
  {
   "cell_type": "code",
   "execution_count": 18,
   "metadata": {
    "ExecuteTime": {
     "end_time": "2021-10-27T13:34:13.942783Z",
     "start_time": "2021-10-27T13:33:56.775746Z"
    }
   },
   "outputs": [
    {
     "name": "stdout",
     "output_type": "stream",
     "text": [
      "782/782 [==============================] - 45s 57ms/step - loss: 0.3986 - accuracy: 0.8350\n"
     ]
    },
    {
     "data": {
      "text/plain": [
       "0.8350399732589722"
      ]
     },
     "execution_count": 18,
     "metadata": {},
     "output_type": "execute_result"
    }
   ],
   "source": [
    "score = model.evaluate(X_test, y_test)\n",
    "score[1]"
   ]
  },
  {
   "cell_type": "markdown",
   "metadata": {},
   "source": [
    "### Identifying which class the review belongs to"
   ]
  },
  {
   "cell_type": "code",
   "execution_count": 44,
   "metadata": {},
   "outputs": [],
   "source": [
    "test_labels=y_test.tolist() "
   ]
  },
  {
   "cell_type": "code",
   "execution_count": 45,
   "metadata": {},
   "outputs": [],
   "source": [
    "def get_review_and_class(size):\n",
    "  idx = np.random.randint(len(X_test), size=size) \n",
    "  for i in range(len(idx)):\n",
    "    print(X_test[idx,:][i])\n",
    "    if test_labels[idx[i]] == 1:\n",
    "      print('This is a positive review!')\n",
    "    elif test_labels[idx[i]] == 0:\n",
    "      print('This is a negative review!')\n"
   ]
  },
  {
   "cell_type": "code",
   "execution_count": 46,
   "metadata": {},
   "outputs": [
    {
     "name": "stdout",
     "output_type": "stream",
     "text": [
      "[  242  1222  4891  3025 19113   320    11     4  4681    39    41  3731\n",
      "    37  2171    12   103     4  3286   325   279    41  3731     9  7999\n",
      "     5    14    16    96   103     4  3286   325     5   422   121    16\n",
      "     4  9493    51  5204  2518    81   134    84   412    11    13   115\n",
      "   181     8    67   160    20    15  8168    75    92    28  9493     5\n",
      "     2     5     5   608   279   134    84    28     6   527     2     8\n",
      "  4498  1636   120     4  1699    21    92   942    72     8   264   259\n",
      "    11    14   559     7  4181  7293    15   294    43  4214    83   129\n",
      "   113   209  2783    86]\n",
      "This is a negative review!\n",
      "[  389   228     5  3822  8879   769     4   167  1027    53    74    43\n",
      "     8  2836     4    22   716     4    65     7     6 16029  3020   291\n",
      "   154   625   846  2596     8    41    15    59    16  5374  1346   454\n",
      "    35  6761    15   304    98    32    39  2853     8   325  3067     2\n",
      "     2  1490  2057  1493    19  4442   139     7   567     2     8    97\n",
      "     6   213   151    12     9     6  4274    31     9   256    34  1657\n",
      "   590     5    59     9    31     7     4   171   506   156   207   110\n",
      "    37    70    30 16029     5   246    24   616    41  1382     5   936\n",
      "  1428     4    22   295]\n",
      "This is a positive review!\n",
      "[   24   931    23   138     4   962    26    82   576  2342    19   578\n",
      "   541 18078  5642     6   730  3705     7   541    46     4   145     7\n",
      "  1145  1828    54    36    79   324    10    10    12    82   186   111\n",
      "    84  5953    23    14    20    26   269     8  8859     4   675  1337\n",
      "   209    68  4388    11     4  3274    62   967    14    22   752     6\n",
      "   457   158  2035    12     9 12570    15    84    37   952    23    14\n",
      "    22    26     2    68   205  2896    10    10    13  1467   316   798\n",
      "    14    20    12   218   290  3121     4  1552   234     7   129   113\n",
      "    10    10   427   373]\n",
      "This is a negative review!\n",
      "[    0     0     0     0     0     0     0     0     0     0     0     0\n",
      "     0     0     0     0     0     0     0     0     0     0     0     0\n",
      "     0     0     0     0     0     0     0     0     0     0     0     0\n",
      "     0     0     0     0     0     0     0     0     0     0     0     0\n",
      "     0     0     0     0     0     0     0     0     0     0     0     1\n",
      "   991     5     6    20    15  2346     4  3923  1357    12    82  3009\n",
      "    17     6    87  2867    18  5002     4   200     5    19    11     4\n",
      "   971   217    17 10936    39  8205     9    24     6  5336    92   717\n",
      "    12    18     4   182]\n",
      "This is a positive review!\n",
      "[   20    43    47     6  2031   114  8446    32     4   622  1074     4\n",
      "    20     9   269     8   270    56     4   114  3054   187     6   255\n",
      "   269     8   169    51   575     8    41  1012  1233   658   137    82\n",
      "  3165    18    49   432     7  2560 10631    59  1077   134   107   493\n",
      "    37  4415    35  4191     8    81  1913  1101     5   150   657     8\n",
      "   994    41     8     4  1358    17  1108     8    79    83     4   704\n",
      "     5   895     4  1501  1154     7     6  2646     4    64   183    15\n",
      "    97    14    20   643  6836     9  7581 19413   109     5     4  8314\n",
      "  1274    33     4   130]\n",
      "This is a negative review!\n",
      "[    5   644   692     8     4  1373     7  1205     4   431    11    35\n",
      "   221  1377    91  5420  5947  1035  1524     5     6   131   370     8\n",
      "    97    98    53   221 11206  1077     6   378     7   196  5430   665\n",
      "     5    49   327   370 17975     8   376    27    65     5     8   123\n",
      "  4895    17     6   478   284    17    73    17     6  1020  3016    10\n",
      "    10    14    65   299    19    49   221  1326    40     2   356   847\n",
      "   367   133    45    44 18316     7   635     5     4  2951    15   102\n",
      "    97     7    98    42    25   238  2257     8  2754   141  1341     5\n",
      "   462   129   419   125]\n",
      "This is a positive review!\n",
      "[ 255  186   38 7067    5   11    6 8605    8   81    4   21   18   49\n",
      "  282   59 2617    4   58    2 1286   32  187    4  543   54   59  100\n",
      "   30 2462   33  344    4  116    9  527    4  524    2    5    2   17\n",
      "   59  805    8  104    7    4  715    5   75   26  317  340   11    4\n",
      "  465    4  162  782 1385    9  327   21    4   20 4066   23   12   99\n",
      "   76    5   12  214  154  702    4   20  299   40    6 5482    2 1475\n",
      "   22   14   22   47   57 1653 2432    5   13   81   24  386   12    8\n",
      "  259  126]\n",
      "This is a negative review!\n",
      "[15664  3652  5285     2  3273  2102  5332  6596   848  2127 11746  1802\n",
      " 11362  1659     2  1095  1851  2268  1504     8   374  4060    47     2\n",
      "  3242  1812     5   223    23    35 18363  1539  3035     8     4  1226\n",
      "  6024    34    27  1410  1383     4     2   528  4720    27  1169   103\n",
      "   112  5706    34     6  9440  3491  3606  3192  3087   125   191  4160\n",
      "    56     8   101     7     4  3035   108    60  1874  3035    19     6\n",
      "   888     7   726    42    24     4  1057   197     4   229    16   165\n",
      "   163    24    60  5806 11362    42     2    70    97    12  2602  1753\n",
      " 15725  5651    24  1150]\n",
      "This is a negative review!\n",
      "[  104     4    22  1188   100    28   224     6   128   292    19 12128\n",
      "     4   687    15  1638    56     8    14    22  1575     6   664   382\n",
      "    34   361     7     6  3870    85    74    15     4    22   266   125\n",
      "    17     6   147   463     7    89   123   970   218    44     4   123\n",
      "    21   247     4   970    10    10    13   440    15     4   779  1436\n",
      "  1187     2   132  1530   214     8    67     4   641     7   251    13\n",
      "   104     4    22  1188   122     6   478   292    23    12    19    51\n",
      "   117    36    69     8   157    19     5    32    15    36    69     8\n",
      "  3083     8   601    12]\n",
      "This is a positive review!\n",
      "[  14   21   12   80   97   25  181    8   55  921    5   55  619    4\n",
      " 4318    9    6  215   67   20   12  287   25    4 1217    7 1862    5\n",
      "  119    5    9   35  576   87   20   10   10   33   86   13  161  104\n",
      "   12   62   30   17   87    5 3550  138   61 7000  210 3785  149   12\n",
      "   21  150   13  124   45    6 1380   22   15    9   38  204    5    9\n",
      "   38  491    8  147  113 1186 1025   91    7    4   85  108   15  152\n",
      "   97  281  715  566 1634    4 5058    7    4 4318   25   43   28    8\n",
      "   67   12]\n",
      "This is a positive review!\n",
      "[  50   16  983  101  281   11    4  114    5   50   16   57 1426    8\n",
      "   14   22  190    4 1759 1251    7   14   22 1894   12   18   72   88\n",
      "   48    4  370  157   42    4 1524   16   78   95   13   62   28  679\n",
      "  125    4  288 1799    5 7426   11  142  334   13   62  386   14   20\n",
      "    8  148   37  358   66  954  503  102   17   73   17  148   37  794\n",
      " 1215 2239   88   14   20  434    9   13   62 5902  386   14   22   18\n",
      "  148   37  358 2084 1179 1554   21   18   72   14   20   16 5342    5\n",
      " 1254  527]\n",
      "This is a negative review!\n",
      "[    0     0     0     0     0     0     0     0     0     0     0     0\n",
      "     0     0     0     0     0     0     0     0     0     0     0     0\n",
      "     0     0     0     0     0     0     0     0     0     0     0     0\n",
      "     0     0     0     0     0     0     0     0     0     0     0     0\n",
      "     0     0     0     0     0     1   253    65     7     6  1988   232\n",
      "    19   194  1306    14   364   352    22    66  1936   344   800    51\n",
      "    12     9    40   269     8   413    35   116  1023    87   354    34\n",
      "  3763  4664     5 18641  3608  2365    13     2  7074     5    60  3785\n",
      "     6   117    10    10]\n",
      "This is a positive review!\n",
      "[    2   525    21    88     7    68 12238     2     8     4   311     5\n",
      "  3002    11   397   533    11   134  1186    45   254     8   459    17\n",
      "     4  2350  5767    56   294   214  2024    31     7    68   369   271\n",
      "    46     8   168    18    98   584  4040   507  2115  5375     2    95\n",
      "  3260   279    31   251  3899    79     6   881    19  4800  1089  1451\n",
      "   105    37    97  7159  4145    21   131   130    56   112     2    34\n",
      "     6  1262   455   366    95    75    28     8  8324  2369    19     4\n",
      "    13  3891     7  9061   113   112  1637   125    34     6  5211     2\n",
      "   449    73   470   158]\n",
      "This is a negative review!\n",
      "[ 1434     8    67    43    89    76     4   500    47  9289    11     4\n",
      "   236  1446   935  2740     5    35  1434     8    67  2560     2     2\n",
      "   276    83  4288    48   335     6 17750  6772   337   490   242   358\n",
      "     4   192    15     4 17750  6772  5136  4390  1568     6  1573  1813\n",
      "   816    18     4    22    48   335     6 17750  6772 13734    73    95\n",
      "   335   242    24   149    14    20   553    32   298     9    35  3373\n",
      "  5037   921    22   382     6  4418  2087  3178    21   198    24   141\n",
      "     6    78   155    45     6    55   737    22    31    73   290   656\n",
      "     4    58     8    67]\n",
      "This is a positive review!\n",
      "[ 6691  5764     5    16 12014  1810    13    28   115  2071     8   119\n",
      "    41     4    96    61   577   127    21    13    28     8  1900    61\n",
      "   715    13    81    40    49     7    41   538     5   518   358    41\n",
      "   814 14724    14 12056  3075    22     9    87    60    48     4   228\n",
      "     9    24     5    94    24    13    16  1555    34     4  8500     5\n",
      "  5867 13293   205   239    16  6322    34     4  1048  3976    59  2471\n",
      "     8  1425    41    61   577    16    33     4  1316 16136     5    16\n",
      "   932    44    12     4   761 16887    47  2085    61  2405 16361     7\n",
      "    41    38    55   355]\n",
      "This is a positive review!\n",
      "[   4    2   16    6  117   99  727    5   43    6  227   99  402   23\n",
      "   11    4   20 1864  149   12  645    8   79    6  117 1162    5 1499\n",
      "    8    4  213   15    4   64 3793 3746  614   16    4 3455  114 1009\n",
      "   21   12  434  122   24 2457   14  102 2973   50   71  897  354   50\n",
      "   16  115    6  753  357  561   38  484   73  290  149   14   31   12\n",
      "  828   72  928  208   56  366    4  130    5   18   72   50  218  111\n",
      "  102   15   70   81   15  134  504   13  545  386   84  106   14 1307\n",
      "  117   20]\n",
      "This is a positive review!\n",
      "[ 2131    75    28   150   138     2    14   224   128    48    25    26\n",
      "  3601     8  6186    46   457  3596     5    49   653    30  2815    14\n",
      "     9    66    78    21    48    25    40  2784  3416     5 11467  1792\n",
      "    95   106    68   102   305    60  1659  2137   122   128    95    14\n",
      "    31   162   284   951 16062     9   184    52    17    35  4859  4679\n",
      "  2784     4  2974    36   361    26     4  4191   443  6960    91  1824\n",
      "   500   416   182 14850   132     5  2113  2916    15  2839  4679  2784\n",
      "   356    13   264    14   365    16    55   364   352     5    12   287\n",
      "   300    46     7   158]\n",
      "This is a negative review!\n",
      "[ 1020   177  1679    13   104    41  1256     8   371   511  2937     4\n",
      "    22     4  2069  2069  1013  1333    16     6   117    99  4980     5\n",
      "     8   763  2384     8  7284   138  1414     8   177  3342  8724  1532\n",
      "    59    64    47     4  1256     8  2457     6    22    59  1503     4\n",
      "  1256     8    28    23   268  1175    19   259    24     8   760    59\n",
      "  1503     4  1256     8   511    59  1503  1175    19     4    85   105\n",
      "   243     7  2781     7  5044    59    93     4 11648 11648    14    20\n",
      "     9  2854  1282    51     6   902   591   591    92   376    72  2001\n",
      "     9    23     4    96]\n",
      "This is a negative review!\n",
      "[ 4782     5  1087    57     2    11   513     9  2277     4    20     9\n",
      "   368     7   932 14508  5167  1393   414     5  2072     8   285    39\n",
      "   711  1991     8     4  3926   132    53    74   195     8 15012    60\n",
      "     6  6650  2343    21     4   147  1382     7     4   155     9    11\n",
      "    94   105     4  1166     7  1613     4  2719     5  9053    70     2\n",
      "    39  1801     7  7192     9   480    36   306    17  1314  1239    17\n",
      "   101  2120     5   541   284     4   288   766     5    13   386     4\n",
      "  5633  1687     6   612     7  7180     5   441  2260    17    73  3058\n",
      "  1178     2  5509  2215]\n",
      "This is a positive review!\n",
      "[  136   363  2505   134   107    91  1329     8   607    58     5   278\n",
      "    11     4    20  1248 10910   283    69     8  4473     4   263  5412\n",
      "     5     8    32     4    96     8     2   138    25   203   942    54\n",
      "    75    28     4  9212  2843  1550    43   180     4   890    88  2450\n",
      "  2843  1550  5179     8   193    98    25   332   208    36  5179   112\n",
      "  5652    34    98    13    16  3013  2964     8   135   146    57  1207\n",
      "     2    19    15  8199   101    85   795    62    30  3611     8     4\n",
      "   663   460  5618    34     4    84    15    37   165   412   133    42\n",
      "  1452   143     4   585]\n",
      "This is a negative review!\n",
      "[    0     0     0     0     0     0     0     0     0     0     0     0\n",
      "     0     0     0     0     0     0     0     0     0     0     0     0\n",
      "     0     0     0     1   164   346     7  2000  1381   627    11    14\n",
      "    22     4   192    15    25   401  2987     5  1383    18    53  1549\n",
      "   844   716    25    15    36    28    43   195     4   116     9   777\n",
      "     4   537    26 12512  9320   295     5     4  2515    26  3620    10\n",
      "    10     6   215   851   650    42    67    10    10    92    30  1595\n",
      "     7  2576    10    10    94   290     6   117     2  7300    10    10\n",
      "   158   158    10    10]\n",
      "This is a positive review!\n",
      "[   77  9996 16955    44     4    96     2   109 11037    56     4   513\n",
      "    12  3675    90    39    27   504    11  3153  3414   473     8  2337\n",
      "    27   311     5     4  1330     7     4  3301    12   246   174    11\n",
      "     6  1767    96   366     4  2873     9  2029    12   739  2943     5\n",
      "    95   216     4   919    10    10  2395    17     6  2220     7    94\n",
      "    58     4     9  1220     5   163     6    55    73   398   481   212\n",
      "    73   917    34  3414   526    34  1284  1848    94  1997  3890     7\n",
      "   453     5  7518   486    97    12   168   220    40     6  1265 11794\n",
      "    42  5365 15627   212]\n",
      "This is a positive review!\n",
      "[   9    6  542  114 1009  949    4  130   21   38  111  139   15   92\n",
      "   97  281 4978  256   34 1620 5213 1419  266  344 1612    5 1623    8\n",
      " 6275   84    5   29  304    4   58    8  276   23    4 1333   54   29\n",
      " 8664   27  519   11 1011    7   27  313   11    4  655    7 1282   13\n",
      "   92  181    8 2372   12   18  259   37  127 1197    8   67   12   21\n",
      "    4  236 3598  234   26  647   60    4  116   63  286   78  402   23\n",
      "  505   78  949    4  130   92 1414  894   25  181    8   67   89   78\n",
      "   12    9]\n",
      "This is a negative review!\n",
      "[ 393   19    2    5 7279 5255    2 5706  125    2  143 6849 5706   23\n",
      "    4 3307 6782   84    2    2    5 8512   11   10   10    4    2   26\n",
      "  642   36  276   12   83    6    2    5  471   12   23   95   12  560\n",
      "    2   16    2   36  276   11   11    6    2  155    5   12  214 7326\n",
      "   10   10   14    9   43    6   87   20   95   36  380  536    7   85\n",
      "  771    8  516   12    5    4    2 7231    2   24    2   10   10   12\n",
      "   16  290   95  747 3596 1084    8  818   14   10   10  158   46    7\n",
      "  158  381]\n",
      "This is a positive review!\n",
      "[  172     4  1648    15   107   141  6856    84   202   257    85    15\n",
      "  9471  5962     5   153     9  6496     5    15     4  1427     7     4\n",
      "   372  4760    16    35   779  1494    15   122   593     8   147    84\n",
      "     4    65     9    44     4  2124     7   109     7  1981    84    84\n",
      "    37    43   805     8  2007     6   527    58    11    68   456     5\n",
      "    14    82  1353  3875    11     6   147  5440     4   704     9    40\n",
      "    32  3125  3798    15   316  1388  8096   704  3798     5  9877  3798\n",
      "    21    12   408     6   868    18  4338    39     6 16778     2   513\n",
      "     8     6   223  1830]\n",
      "This is a positive review!\n"
     ]
    }
   ],
   "source": [
    "get_review_and_class(25)  "
   ]
  },
  {
   "cell_type": "markdown",
   "metadata": {},
   "source": [
    "# BLSTM"
   ]
  },
  {
   "cell_type": "code",
   "execution_count": 35,
   "metadata": {
    "ExecuteTime": {
     "end_time": "2021-10-28T13:04:56.244802Z",
     "start_time": "2021-10-28T13:04:55.766740Z"
    }
   },
   "outputs": [
    {
     "name": "stdout",
     "output_type": "stream",
     "text": [
      "Model: \"sequential_2\"\n",
      "_________________________________________________________________\n",
      "Layer (type)                 Output Shape              Param #   \n",
      "=================================================================\n",
      "embedding_2 (Embedding)      (None, 100, 128)          2560000   \n",
      "_________________________________________________________________\n",
      "bidirectional_1 (Bidirection (None, 256)               263168    \n",
      "_________________________________________________________________\n",
      "dropout_2 (Dropout)          (None, 256)               0         \n",
      "_________________________________________________________________\n",
      "dense_2 (Dense)              (None, 1)                 257       \n",
      "=================================================================\n",
      "Total params: 2,823,425\n",
      "Trainable params: 2,823,425\n",
      "Non-trainable params: 0\n",
      "_________________________________________________________________\n"
     ]
    }
   ],
   "source": [
    "model = Sequential()\n",
    "model.add(Embedding(max_features, 128, input_length=maxlen))\n",
    "# change LSTM layer to Bidirectional LSTM \n",
    "model.add(Bidirectional(LSTM(layers)))\n",
    "model.add(Dropout(dropout))\n",
    "model.add(Dense(1, activation='sigmoid'))\n",
    "\n",
    "model.compile('adam', 'binary_crossentropy', metrics=['accuracy'])\n",
    "\n",
    "model.summary()"
   ]
  },
  {
   "cell_type": "code",
   "execution_count": 36,
   "metadata": {
    "ExecuteTime": {
     "end_time": "2021-10-28T13:08:05.415235Z",
     "start_time": "2021-10-28T13:04:56.510388Z"
    }
   },
   "outputs": [
    {
     "name": "stdout",
     "output_type": "stream",
     "text": [
      "Epoch 1/3\n",
      "157/157 [==============================] - 62s 378ms/step - loss: 0.4593 - accuracy: 0.7792 - val_loss: 0.3471 - val_accuracy: 0.8482\n",
      "Epoch 2/3\n",
      "157/157 [==============================] - 67s 424ms/step - loss: 0.2456 - accuracy: 0.9044 - val_loss: 0.3429 - val_accuracy: 0.8540\n",
      "Epoch 3/3\n",
      "157/157 [==============================] - 60s 381ms/step - loss: 0.1622 - accuracy: 0.9428 - val_loss: 0.4218 - val_accuracy: 0.8424\n"
     ]
    }
   ],
   "source": [
    "history = model.fit(X_train, y_train,\n",
    "                    epochs=epochs,\n",
    "                    batch_size=batch_size,\n",
    "                    validation_split=0.2)"
   ]
  },
  {
   "cell_type": "code",
   "execution_count": 10,
   "metadata": {},
   "outputs": [
    {
     "name": "stdout",
     "output_type": "stream",
     "text": [
      "25000/25000 [==============================] - 22s 886us/step\n"
     ]
    },
    {
     "data": {
      "text/plain": [
       "0.81904"
      ]
     },
     "execution_count": 10,
     "metadata": {},
     "output_type": "execute_result"
    }
   ],
   "source": [
    "score = model.evaluate(X_test, y_test)\n",
    "score[1]"
   ]
  },
  {
   "cell_type": "markdown",
   "metadata": {},
   "source": [
    "# SimpleRNN"
   ]
  },
  {
   "cell_type": "code",
   "execution_count": 11,
   "metadata": {},
   "outputs": [
    {
     "name": "stdout",
     "output_type": "stream",
     "text": [
      "_________________________________________________________________\n",
      "Layer (type)                 Output Shape              Param #   \n",
      "=================================================================\n",
      "embedding_3 (Embedding)      (None, 100, 128)          2560000   \n",
      "_________________________________________________________________\n",
      "simple_rnn_1 (SimpleRNN)     (None, 128)               32896     \n",
      "_________________________________________________________________\n",
      "dropout_3 (Dropout)          (None, 128)               0         \n",
      "_________________________________________________________________\n",
      "dense_3 (Dense)              (None, 1)                 129       \n",
      "=================================================================\n",
      "Total params: 2,593,025\n",
      "Trainable params: 2,593,025\n",
      "Non-trainable params: 0\n",
      "_________________________________________________________________\n"
     ]
    }
   ],
   "source": [
    "model = Sequential()\n",
    "model.add(Embedding(max_features, 128, input_length=maxlen))\n",
    "\n",
    "# change LSTM to RNN \n",
    "model.add(SimpleRNN(layers)) \n",
    "model.add(Dropout(dropout))\n",
    "model.add(Dense(1, activation='sigmoid'))\n",
    "\n",
    "model.compile('adam', 'binary_crossentropy', metrics=['accuracy'])\n",
    "\n",
    "model.summary()"
   ]
  },
  {
   "cell_type": "code",
   "execution_count": 12,
   "metadata": {},
   "outputs": [
    {
     "name": "stdout",
     "output_type": "stream",
     "text": [
      "Train on 20000 samples, validate on 5000 samples\n",
      "Epoch 1/3\n",
      "20000/20000 [==============================] - 19s 927us/step - loss: 0.6278 - acc: 0.6275 - val_loss: 0.5543 - val_acc: 0.7054\n",
      "Epoch 2/3\n",
      "20000/20000 [==============================] - 17s 867us/step - loss: 0.3938 - acc: 0.8298 - val_loss: 0.4116 - val_acc: 0.8196\n",
      "Epoch 3/3\n",
      "20000/20000 [==============================] - 17s 861us/step - loss: 0.2647 - acc: 0.8973 - val_loss: 0.4564 - val_acc: 0.8054\n"
     ]
    }
   ],
   "source": [
    "history = model.fit(X_train, y_train,\n",
    "                    epochs=epochs,\n",
    "                    batch_size=batch_size,\n",
    "                    validation_split=0.2)"
   ]
  },
  {
   "cell_type": "code",
   "execution_count": 37,
   "metadata": {
    "ExecuteTime": {
     "end_time": "2021-10-28T13:08:39.483211Z",
     "start_time": "2021-10-28T13:08:05.420484Z"
    }
   },
   "outputs": [
    {
     "name": "stdout",
     "output_type": "stream",
     "text": [
      "782/782 [==============================] - 34s 43ms/step - loss: 0.4354 - accuracy: 0.8373\n"
     ]
    },
    {
     "data": {
      "text/plain": [
       "0.8372799754142761"
      ]
     },
     "execution_count": 37,
     "metadata": {},
     "output_type": "execute_result"
    }
   ],
   "source": [
    "score = model.evaluate(X_test, y_test)\n",
    "score[1]"
   ]
  },
  {
   "cell_type": "markdown",
   "metadata": {},
   "source": [
    "# GRU"
   ]
  },
  {
   "cell_type": "code",
   "execution_count": 14,
   "metadata": {},
   "outputs": [
    {
     "name": "stdout",
     "output_type": "stream",
     "text": [
      "_________________________________________________________________\n",
      "Layer (type)                 Output Shape              Param #   \n",
      "=================================================================\n",
      "embedding_4 (Embedding)      (None, 100, 128)          2560000   \n",
      "_________________________________________________________________\n",
      "gru_1 (GRU)                  (None, 128)               98688     \n",
      "_________________________________________________________________\n",
      "dropout_4 (Dropout)          (None, 128)               0         \n",
      "_________________________________________________________________\n",
      "dense_4 (Dense)              (None, 1)                 129       \n",
      "=================================================================\n",
      "Total params: 2,658,817\n",
      "Trainable params: 2,658,817\n",
      "Non-trainable params: 0\n",
      "_________________________________________________________________\n"
     ]
    }
   ],
   "source": [
    "model = Sequential()\n",
    "model.add(Embedding(max_features, 128, input_length=maxlen))\n",
    "#change to GRU \n",
    "model.add(GRU(layers)) \n",
    "model.add(Dropout(dropout))\n",
    "model.add(Dense(1, activation='sigmoid'))\n",
    "\n",
    "model.compile('adam', 'binary_crossentropy', metrics=['accuracy'])\n",
    "\n",
    "model.summary()"
   ]
  },
  {
   "cell_type": "code",
   "execution_count": 15,
   "metadata": {},
   "outputs": [
    {
     "name": "stdout",
     "output_type": "stream",
     "text": [
      "Train on 20000 samples, validate on 5000 samples\n",
      "Epoch 1/3\n",
      "20000/20000 [==============================] - 33s 2ms/step - loss: 0.4960 - acc: 0.7460 - val_loss: 0.4931 - val_acc: 0.8098\n",
      "Epoch 2/3\n",
      "20000/20000 [==============================] - 32s 2ms/step - loss: 0.2559 - acc: 0.8975 - val_loss: 0.4102 - val_acc: 0.8364\n",
      "Epoch 3/3\n",
      "20000/20000 [==============================] - 32s 2ms/step - loss: 0.1587 - acc: 0.9434 - val_loss: 0.4368 - val_acc: 0.8366\n"
     ]
    }
   ],
   "source": [
    "history = model.fit(X_train, y_train,\n",
    "                    epochs=epochs,\n",
    "                    batch_size=batch_size,\n",
    "                    validation_split=0.2)"
   ]
  },
  {
   "cell_type": "code",
   "execution_count": 16,
   "metadata": {},
   "outputs": [
    {
     "name": "stdout",
     "output_type": "stream",
     "text": [
      "25000/25000 [==============================] - 15s 591us/step\n"
     ]
    },
    {
     "data": {
      "text/plain": [
       "0.8364"
      ]
     },
     "execution_count": 16,
     "metadata": {},
     "output_type": "execute_result"
    }
   ],
   "source": [
    "score = model.evaluate(X_test, y_test)\n",
    "score[1]"
   ]
  }
 ],
 "metadata": {
  "kernelspec": {
   "display_name": "Python 3 (ipykernel)",
   "language": "python",
   "name": "python3"
  },
  "language_info": {
   "codemirror_mode": {
    "name": "ipython",
    "version": 3
   },
   "file_extension": ".py",
   "mimetype": "text/x-python",
   "name": "python",
   "nbconvert_exporter": "python",
   "pygments_lexer": "ipython3",
   "version": "3.9.12"
  }
 },
 "nbformat": 4,
 "nbformat_minor": 2
}
