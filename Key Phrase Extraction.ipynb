{
 "cells": [
  {
   "cell_type": "markdown",
   "metadata": {},
   "source": [
    "https://towardsdatascience.com/keyword-extraction-process-in-python-with-natural-language-processing-nlp-d769a9069d5c"
   ]
  },
  {
   "cell_type": "code",
   "execution_count": 1,
   "metadata": {
    "colab": {
     "base_uri": "https://localhost:8080/"
    },
    "collapsed": true,
    "id": "ilskamOD-PME",
    "outputId": "c9bd7728-d698-446c-b784-6f3ef322ff2b"
   },
   "outputs": [
    {
     "name": "stdout",
     "output_type": "stream",
     "text": [
      "Collecting textacy==0.9.1\n",
      "  Downloading textacy-0.9.1-py3-none-any.whl (203 kB)\n",
      "\u001b[K     |████████████████████████████████| 203 kB 3.3 MB/s eta 0:00:01\n",
      "\u001b[?25hRequirement already satisfied: scipy>=0.17.0 in /Users/punamichowdary/Applications/anaconda3/lib/python3.9/site-packages (from textacy==0.9.1) (1.9.0)\n",
      "Collecting jellyfish>=0.7.0\n",
      "  Downloading jellyfish-0.9.0-cp39-cp39-macosx_10_14_x86_64.whl (25 kB)\n",
      "Requirement already satisfied: scikit-learn>=0.19.0 in /Users/punamichowdary/Applications/anaconda3/lib/python3.9/site-packages (from textacy==0.9.1) (1.1.2)\n",
      "Requirement already satisfied: numpy>=1.17.0 in /Users/punamichowdary/Applications/anaconda3/lib/python3.9/site-packages (from textacy==0.9.1) (1.22.0)\n",
      "Collecting pyemd>=0.5.0\n",
      "  Downloading pyemd-0.5.1.tar.gz (91 kB)\n",
      "\u001b[K     |████████████████████████████████| 91 kB 6.5 MB/s eta 0:00:01\n",
      "\u001b[?25hRequirement already satisfied: spacy>=2.0.12 in /Users/punamichowdary/Applications/anaconda3/lib/python3.9/site-packages (from textacy==0.9.1) (3.4.1)\n",
      "Requirement already satisfied: srsly>=0.0.5 in /Users/punamichowdary/Applications/anaconda3/lib/python3.9/site-packages (from textacy==0.9.1) (2.4.4)\n",
      "Requirement already satisfied: cytoolz>=0.8.0 in /Users/punamichowdary/Applications/anaconda3/lib/python3.9/site-packages (from textacy==0.9.1) (0.11.0)\n",
      "Requirement already satisfied: tqdm>=4.19.6 in /Users/punamichowdary/Applications/anaconda3/lib/python3.9/site-packages (from textacy==0.9.1) (4.64.0)\n",
      "Requirement already satisfied: networkx>=2.0 in /Users/punamichowdary/Applications/anaconda3/lib/python3.9/site-packages (from textacy==0.9.1) (2.7.1)\n",
      "Requirement already satisfied: requests>=2.10.0 in /Users/punamichowdary/Applications/anaconda3/lib/python3.9/site-packages (from textacy==0.9.1) (2.27.1)\n",
      "Requirement already satisfied: joblib>=0.13.0 in /Users/punamichowdary/Applications/anaconda3/lib/python3.9/site-packages (from textacy==0.9.1) (1.1.0)\n",
      "Requirement already satisfied: cachetools>=2.0.1 in /Users/punamichowdary/Applications/anaconda3/lib/python3.9/site-packages (from textacy==0.9.1) (4.2.2)\n",
      "Collecting pyphen>=0.9.4\n",
      "  Downloading pyphen-0.13.2-py3-none-any.whl (2.0 MB)\n",
      "\u001b[K     |████████████████████████████████| 2.0 MB 9.2 MB/s eta 0:00:01\n",
      "\u001b[?25hRequirement already satisfied: toolz>=0.8.0 in /Users/punamichowdary/Applications/anaconda3/lib/python3.9/site-packages (from cytoolz>=0.8.0->textacy==0.9.1) (0.11.2)\n",
      "Requirement already satisfied: urllib3<1.27,>=1.21.1 in /Users/punamichowdary/Applications/anaconda3/lib/python3.9/site-packages (from requests>=2.10.0->textacy==0.9.1) (1.26.9)\n",
      "Requirement already satisfied: certifi>=2017.4.17 in /Users/punamichowdary/Applications/anaconda3/lib/python3.9/site-packages (from requests>=2.10.0->textacy==0.9.1) (2022.6.15)\n",
      "Requirement already satisfied: charset-normalizer~=2.0.0 in /Users/punamichowdary/Applications/anaconda3/lib/python3.9/site-packages (from requests>=2.10.0->textacy==0.9.1) (2.0.4)\n",
      "Requirement already satisfied: idna<4,>=2.5 in /Users/punamichowdary/Applications/anaconda3/lib/python3.9/site-packages (from requests>=2.10.0->textacy==0.9.1) (3.3)\n",
      "Requirement already satisfied: threadpoolctl>=2.0.0 in /Users/punamichowdary/Applications/anaconda3/lib/python3.9/site-packages (from scikit-learn>=0.19.0->textacy==0.9.1) (2.2.0)\n",
      "Requirement already satisfied: packaging>=20.0 in /Users/punamichowdary/Applications/anaconda3/lib/python3.9/site-packages (from spacy>=2.0.12->textacy==0.9.1) (21.3)\n",
      "Requirement already satisfied: thinc<8.2.0,>=8.1.0 in /Users/punamichowdary/Applications/anaconda3/lib/python3.9/site-packages (from spacy>=2.0.12->textacy==0.9.1) (8.1.0)\n",
      "Requirement already satisfied: langcodes<4.0.0,>=3.2.0 in /Users/punamichowdary/Applications/anaconda3/lib/python3.9/site-packages (from spacy>=2.0.12->textacy==0.9.1) (3.3.0)\n",
      "Requirement already satisfied: jinja2 in /Users/punamichowdary/Applications/anaconda3/lib/python3.9/site-packages (from spacy>=2.0.12->textacy==0.9.1) (2.11.3)\n",
      "Requirement already satisfied: cymem<2.1.0,>=2.0.2 in /Users/punamichowdary/Applications/anaconda3/lib/python3.9/site-packages (from spacy>=2.0.12->textacy==0.9.1) (2.0.6)\n",
      "Requirement already satisfied: murmurhash<1.1.0,>=0.28.0 in /Users/punamichowdary/Applications/anaconda3/lib/python3.9/site-packages (from spacy>=2.0.12->textacy==0.9.1) (1.0.8)\n",
      "Requirement already satisfied: pathy>=0.3.5 in /Users/punamichowdary/Applications/anaconda3/lib/python3.9/site-packages (from spacy>=2.0.12->textacy==0.9.1) (0.6.2)\n",
      "Requirement already satisfied: spacy-loggers<2.0.0,>=1.0.0 in /Users/punamichowdary/Applications/anaconda3/lib/python3.9/site-packages (from spacy>=2.0.12->textacy==0.9.1) (1.0.3)\n",
      "Requirement already satisfied: spacy-legacy<3.1.0,>=3.0.9 in /Users/punamichowdary/Applications/anaconda3/lib/python3.9/site-packages (from spacy>=2.0.12->textacy==0.9.1) (3.0.10)\n",
      "Requirement already satisfied: typer<0.5.0,>=0.3.0 in /Users/punamichowdary/Applications/anaconda3/lib/python3.9/site-packages (from spacy>=2.0.12->textacy==0.9.1) (0.4.2)\n",
      "Requirement already satisfied: pydantic!=1.8,!=1.8.1,<1.10.0,>=1.7.4 in /Users/punamichowdary/Applications/anaconda3/lib/python3.9/site-packages (from spacy>=2.0.12->textacy==0.9.1) (1.9.2)\n",
      "Requirement already satisfied: wasabi<1.1.0,>=0.9.1 in /Users/punamichowdary/Applications/anaconda3/lib/python3.9/site-packages (from spacy>=2.0.12->textacy==0.9.1) (0.10.1)\n",
      "Requirement already satisfied: preshed<3.1.0,>=3.0.2 in /Users/punamichowdary/Applications/anaconda3/lib/python3.9/site-packages (from spacy>=2.0.12->textacy==0.9.1) (3.0.7)\n",
      "Requirement already satisfied: setuptools in /Users/punamichowdary/Applications/anaconda3/lib/python3.9/site-packages (from spacy>=2.0.12->textacy==0.9.1) (61.2.0)\n",
      "Requirement already satisfied: catalogue<2.1.0,>=2.0.6 in /Users/punamichowdary/Applications/anaconda3/lib/python3.9/site-packages (from spacy>=2.0.12->textacy==0.9.1) (2.0.8)\n",
      "Requirement already satisfied: pyparsing!=3.0.5,>=2.0.2 in /Users/punamichowdary/Applications/anaconda3/lib/python3.9/site-packages (from packaging>=20.0->spacy>=2.0.12->textacy==0.9.1) (3.0.4)\n",
      "Requirement already satisfied: smart-open<6.0.0,>=5.2.1 in /Users/punamichowdary/Applications/anaconda3/lib/python3.9/site-packages (from pathy>=0.3.5->spacy>=2.0.12->textacy==0.9.1) (5.2.1)\n",
      "Requirement already satisfied: typing-extensions>=3.7.4.3 in /Users/punamichowdary/Applications/anaconda3/lib/python3.9/site-packages (from pydantic!=1.8,!=1.8.1,<1.10.0,>=1.7.4->spacy>=2.0.12->textacy==0.9.1) (4.1.1)\n",
      "Requirement already satisfied: blis<0.8.0,>=0.7.8 in /Users/punamichowdary/Applications/anaconda3/lib/python3.9/site-packages (from thinc<8.2.0,>=8.1.0->spacy>=2.0.12->textacy==0.9.1) (0.7.8)\n",
      "Requirement already satisfied: click<9.0.0,>=7.1.1 in /Users/punamichowdary/Applications/anaconda3/lib/python3.9/site-packages (from typer<0.5.0,>=0.3.0->spacy>=2.0.12->textacy==0.9.1) (8.0.4)\n",
      "Requirement already satisfied: MarkupSafe>=0.23 in /Users/punamichowdary/Applications/anaconda3/lib/python3.9/site-packages (from jinja2->spacy>=2.0.12->textacy==0.9.1) (2.0.1)\n",
      "Building wheels for collected packages: pyemd\n",
      "  Building wheel for pyemd (setup.py) ... \u001b[?25lerror\n",
      "\u001b[31m  ERROR: Command errored out with exit status 1:\n",
      "   command: /Users/punamichowdary/Applications/anaconda3/bin/python -u -c 'import io, os, sys, setuptools, tokenize; sys.argv[0] = '\"'\"'/private/var/folders/hd/xr2z9snj7yl69m8f9f6z_vg80000gn/T/pip-install-sj9oyn0x/pyemd_c12679de024d44d5aa4e355689064b77/setup.py'\"'\"'; __file__='\"'\"'/private/var/folders/hd/xr2z9snj7yl69m8f9f6z_vg80000gn/T/pip-install-sj9oyn0x/pyemd_c12679de024d44d5aa4e355689064b77/setup.py'\"'\"';f = getattr(tokenize, '\"'\"'open'\"'\"', open)(__file__) if os.path.exists(__file__) else io.StringIO('\"'\"'from setuptools import setup; setup()'\"'\"');code = f.read().replace('\"'\"'\\r\\n'\"'\"', '\"'\"'\\n'\"'\"');f.close();exec(compile(code, __file__, '\"'\"'exec'\"'\"'))' bdist_wheel -d /private/var/folders/hd/xr2z9snj7yl69m8f9f6z_vg80000gn/T/pip-wheel-9rlb1kfk\n",
      "       cwd: /private/var/folders/hd/xr2z9snj7yl69m8f9f6z_vg80000gn/T/pip-install-sj9oyn0x/pyemd_c12679de024d44d5aa4e355689064b77/\n",
      "  Complete output (15 lines):\n",
      "  running bdist_wheel\n",
      "  running build\n",
      "  running build_py\n",
      "  creating build\n",
      "  creating build/lib.macosx-10.9-x86_64-3.9\n",
      "  creating build/lib.macosx-10.9-x86_64-3.9/pyemd\n",
      "  copying pyemd/__init__.py -> build/lib.macosx-10.9-x86_64-3.9/pyemd\n",
      "  copying pyemd/__about__.py -> build/lib.macosx-10.9-x86_64-3.9/pyemd\n",
      "  running build_ext\n",
      "  building 'pyemd.emd' extension\n",
      "  creating build/temp.macosx-10.9-x86_64-3.9\n",
      "  creating build/temp.macosx-10.9-x86_64-3.9/pyemd\n",
      "  clang -Wno-unused-result -Wsign-compare -Wunreachable-code -DNDEBUG -fwrapv -O2 -Wall -fPIC -O2 -isystem /Users/punamichowdary/Applications/anaconda3/include -arch x86_64 -I/Users/punamichowdary/Applications/anaconda3/include -fPIC -O2 -isystem /Users/punamichowdary/Applications/anaconda3/include -arch x86_64 -Ipyemd -I/Users/punamichowdary/Applications/anaconda3/include/python3.9 -I/Users/punamichowdary/Applications/anaconda3/lib/python3.9/site-packages/numpy/core/include -c pyemd/emd.cpp -o build/temp.macosx-10.9-x86_64-3.9/pyemd/emd.o\n",
      "  xcrun: error: invalid active developer path (/Library/Developer/CommandLineTools), missing xcrun at: /Library/Developer/CommandLineTools/usr/bin/xcrun\n",
      "  error: command '/usr/bin/clang' failed with exit code 1\n",
      "  ----------------------------------------\u001b[0m\n",
      "\u001b[31m  ERROR: Failed building wheel for pyemd\u001b[0m\n",
      "\u001b[?25h  Running setup.py clean for pyemd\n"
     ]
    },
    {
     "name": "stdout",
     "output_type": "stream",
     "text": [
      "Failed to build pyemd\n",
      "Installing collected packages: pyphen, pyemd, jellyfish, textacy\n",
      "    Running setup.py install for pyemd ... \u001b[?25lerror\n",
      "\u001b[31m    ERROR: Command errored out with exit status 1:\n",
      "     command: /Users/punamichowdary/Applications/anaconda3/bin/python -u -c 'import io, os, sys, setuptools, tokenize; sys.argv[0] = '\"'\"'/private/var/folders/hd/xr2z9snj7yl69m8f9f6z_vg80000gn/T/pip-install-sj9oyn0x/pyemd_c12679de024d44d5aa4e355689064b77/setup.py'\"'\"'; __file__='\"'\"'/private/var/folders/hd/xr2z9snj7yl69m8f9f6z_vg80000gn/T/pip-install-sj9oyn0x/pyemd_c12679de024d44d5aa4e355689064b77/setup.py'\"'\"';f = getattr(tokenize, '\"'\"'open'\"'\"', open)(__file__) if os.path.exists(__file__) else io.StringIO('\"'\"'from setuptools import setup; setup()'\"'\"');code = f.read().replace('\"'\"'\\r\\n'\"'\"', '\"'\"'\\n'\"'\"');f.close();exec(compile(code, __file__, '\"'\"'exec'\"'\"'))' install --record /private/var/folders/hd/xr2z9snj7yl69m8f9f6z_vg80000gn/T/pip-record-y42nqvyk/install-record.txt --single-version-externally-managed --compile --install-headers /Users/punamichowdary/Applications/anaconda3/include/python3.9/pyemd\n",
      "         cwd: /private/var/folders/hd/xr2z9snj7yl69m8f9f6z_vg80000gn/T/pip-install-sj9oyn0x/pyemd_c12679de024d44d5aa4e355689064b77/\n",
      "    Complete output (17 lines):\n",
      "    running install\n",
      "    /Users/punamichowdary/Applications/anaconda3/lib/python3.9/site-packages/setuptools/command/install.py:34: SetuptoolsDeprecationWarning: setup.py install is deprecated. Use build and pip and other standards-based tools.\n",
      "      warnings.warn(\n",
      "    running build\n",
      "    running build_py\n",
      "    creating build\n",
      "    creating build/lib.macosx-10.9-x86_64-3.9\n",
      "    creating build/lib.macosx-10.9-x86_64-3.9/pyemd\n",
      "    copying pyemd/__init__.py -> build/lib.macosx-10.9-x86_64-3.9/pyemd\n",
      "    copying pyemd/__about__.py -> build/lib.macosx-10.9-x86_64-3.9/pyemd\n",
      "    running build_ext\n",
      "    building 'pyemd.emd' extension\n",
      "    creating build/temp.macosx-10.9-x86_64-3.9\n",
      "    creating build/temp.macosx-10.9-x86_64-3.9/pyemd\n",
      "    clang -Wno-unused-result -Wsign-compare -Wunreachable-code -DNDEBUG -fwrapv -O2 -Wall -fPIC -O2 -isystem /Users/punamichowdary/Applications/anaconda3/include -arch x86_64 -I/Users/punamichowdary/Applications/anaconda3/include -fPIC -O2 -isystem /Users/punamichowdary/Applications/anaconda3/include -arch x86_64 -Ipyemd -I/Users/punamichowdary/Applications/anaconda3/include/python3.9 -I/Users/punamichowdary/Applications/anaconda3/lib/python3.9/site-packages/numpy/core/include -c pyemd/emd.cpp -o build/temp.macosx-10.9-x86_64-3.9/pyemd/emd.o\n",
      "    xcrun: error: invalid active developer path (/Library/Developer/CommandLineTools), missing xcrun at: /Library/Developer/CommandLineTools/usr/bin/xcrun\n",
      "    error: command '/usr/bin/clang' failed with exit code 1\n",
      "    ----------------------------------------\u001b[0m\n",
      "\u001b[31mERROR: Command errored out with exit status 1: /Users/punamichowdary/Applications/anaconda3/bin/python -u -c 'import io, os, sys, setuptools, tokenize; sys.argv[0] = '\"'\"'/private/var/folders/hd/xr2z9snj7yl69m8f9f6z_vg80000gn/T/pip-install-sj9oyn0x/pyemd_c12679de024d44d5aa4e355689064b77/setup.py'\"'\"'; __file__='\"'\"'/private/var/folders/hd/xr2z9snj7yl69m8f9f6z_vg80000gn/T/pip-install-sj9oyn0x/pyemd_c12679de024d44d5aa4e355689064b77/setup.py'\"'\"';f = getattr(tokenize, '\"'\"'open'\"'\"', open)(__file__) if os.path.exists(__file__) else io.StringIO('\"'\"'from setuptools import setup; setup()'\"'\"');code = f.read().replace('\"'\"'\\r\\n'\"'\"', '\"'\"'\\n'\"'\"');f.close();exec(compile(code, __file__, '\"'\"'exec'\"'\"'))' install --record /private/var/folders/hd/xr2z9snj7yl69m8f9f6z_vg80000gn/T/pip-record-y42nqvyk/install-record.txt --single-version-externally-managed --compile --install-headers /Users/punamichowdary/Applications/anaconda3/include/python3.9/pyemd Check the logs for full command output.\u001b[0m\n",
      "\u001b[?25h"
     ]
    }
   ],
   "source": [
    "#We need texacy, which inturn loads spacy library\n",
    "!pip install textacy==0.9.1"
   ]
  },
  {
   "cell_type": "code",
   "execution_count": 2,
   "metadata": {
    "colab": {
     "base_uri": "https://localhost:8080/"
    },
    "collapsed": true,
    "id": "4OG9AAzE-PMI",
    "outputId": "2f8cebb2-de67-46ce-eddd-aad7018aaac5"
   },
   "outputs": [
    {
     "name": "stdout",
     "output_type": "stream",
     "text": [
      "Requirement already satisfied: en_core_web_sm==2.2.5 from https://github.com/explosion/spacy-models/releases/download/en_core_web_sm-2.2.5/en_core_web_sm-2.2.5.tar.gz#egg=en_core_web_sm==2.2.5 in /usr/local/lib/python3.7/dist-packages (2.2.5)\n",
      "Requirement already satisfied: spacy>=2.2.2 in /usr/local/lib/python3.7/dist-packages (from en_core_web_sm==2.2.5) (2.2.4)\n",
      "Requirement already satisfied: cymem<2.1.0,>=2.0.2 in /usr/local/lib/python3.7/dist-packages (from spacy>=2.2.2->en_core_web_sm==2.2.5) (2.0.5)\n",
      "Requirement already satisfied: thinc==7.4.0 in /usr/local/lib/python3.7/dist-packages (from spacy>=2.2.2->en_core_web_sm==2.2.5) (7.4.0)\n",
      "Requirement already satisfied: plac<1.2.0,>=0.9.6 in /usr/local/lib/python3.7/dist-packages (from spacy>=2.2.2->en_core_web_sm==2.2.5) (1.1.3)\n",
      "Requirement already satisfied: numpy>=1.15.0 in /usr/local/lib/python3.7/dist-packages (from spacy>=2.2.2->en_core_web_sm==2.2.5) (1.19.5)\n",
      "Requirement already satisfied: requests<3.0.0,>=2.13.0 in /usr/local/lib/python3.7/dist-packages (from spacy>=2.2.2->en_core_web_sm==2.2.5) (2.23.0)\n",
      "Requirement already satisfied: wasabi<1.1.0,>=0.4.0 in /usr/local/lib/python3.7/dist-packages (from spacy>=2.2.2->en_core_web_sm==2.2.5) (0.8.2)\n",
      "Requirement already satisfied: catalogue<1.1.0,>=0.0.7 in /usr/local/lib/python3.7/dist-packages (from spacy>=2.2.2->en_core_web_sm==2.2.5) (1.0.0)\n",
      "Requirement already satisfied: setuptools in /usr/local/lib/python3.7/dist-packages (from spacy>=2.2.2->en_core_web_sm==2.2.5) (57.0.0)\n",
      "Requirement already satisfied: tqdm<5.0.0,>=4.38.0 in /usr/local/lib/python3.7/dist-packages (from spacy>=2.2.2->en_core_web_sm==2.2.5) (4.41.1)\n",
      "Requirement already satisfied: srsly<1.1.0,>=1.0.2 in /usr/local/lib/python3.7/dist-packages (from spacy>=2.2.2->en_core_web_sm==2.2.5) (1.0.5)\n",
      "Requirement already satisfied: preshed<3.1.0,>=3.0.2 in /usr/local/lib/python3.7/dist-packages (from spacy>=2.2.2->en_core_web_sm==2.2.5) (3.0.5)\n",
      "Requirement already satisfied: murmurhash<1.1.0,>=0.28.0 in /usr/local/lib/python3.7/dist-packages (from spacy>=2.2.2->en_core_web_sm==2.2.5) (1.0.5)\n",
      "Requirement already satisfied: blis<0.5.0,>=0.4.0 in /usr/local/lib/python3.7/dist-packages (from spacy>=2.2.2->en_core_web_sm==2.2.5) (0.4.1)\n",
      "Requirement already satisfied: certifi>=2017.4.17 in /usr/local/lib/python3.7/dist-packages (from requests<3.0.0,>=2.13.0->spacy>=2.2.2->en_core_web_sm==2.2.5) (2020.12.5)\n",
      "Requirement already satisfied: chardet<4,>=3.0.2 in /usr/local/lib/python3.7/dist-packages (from requests<3.0.0,>=2.13.0->spacy>=2.2.2->en_core_web_sm==2.2.5) (3.0.4)\n",
      "Requirement already satisfied: urllib3!=1.25.0,!=1.25.1,<1.26,>=1.21.1 in /usr/local/lib/python3.7/dist-packages (from requests<3.0.0,>=2.13.0->spacy>=2.2.2->en_core_web_sm==2.2.5) (1.24.3)\n",
      "Requirement already satisfied: idna<3,>=2.5 in /usr/local/lib/python3.7/dist-packages (from requests<3.0.0,>=2.13.0->spacy>=2.2.2->en_core_web_sm==2.2.5) (2.10)\n",
      "Requirement already satisfied: importlib-metadata>=0.20; python_version < \"3.8\" in /usr/local/lib/python3.7/dist-packages (from catalogue<1.1.0,>=0.0.7->spacy>=2.2.2->en_core_web_sm==2.2.5) (4.0.1)\n",
      "Requirement already satisfied: typing-extensions>=3.6.4; python_version < \"3.8\" in /usr/local/lib/python3.7/dist-packages (from importlib-metadata>=0.20; python_version < \"3.8\"->catalogue<1.1.0,>=0.0.7->spacy>=2.2.2->en_core_web_sm==2.2.5) (3.7.4.3)\n",
      "Requirement already satisfied: zipp>=0.5 in /usr/local/lib/python3.7/dist-packages (from importlib-metadata>=0.20; python_version < \"3.8\"->catalogue<1.1.0,>=0.0.7->spacy>=2.2.2->en_core_web_sm==2.2.5) (3.4.1)\n",
      "\u001b[38;5;2m✔ Download and installation successful\u001b[0m\n",
      "You can now load the model via spacy.load('en_core_web_sm')\n"
     ]
    }
   ],
   "source": [
    "!python -m spacy download en_core_web_sm"
   ]
  },
  {
   "cell_type": "code",
   "execution_count": 2,
   "metadata": {
    "colab": {
     "base_uri": "https://localhost:8080/"
    },
    "collapsed": true,
    "id": "OYYQEs4F-PMJ",
    "outputId": "3e516c1d-c20e-4a43-b61c-7be096d31018"
   },
   "outputs": [
    {
     "name": "stdout",
     "output_type": "stream",
     "text": [
      "Collecting spacy==2.2.4\n",
      "  Downloading spacy-2.2.4.tar.gz (6.1 MB)\n",
      "\u001b[K     |████████████████████████████████| 6.1 MB 4.8 MB/s eta 0:00:01\n",
      "\u001b[?25h  Installing build dependencies ... \u001b[?25lerror\n",
      "\u001b[31m  ERROR: Command errored out with exit status 1:\n",
      "   command: /Users/punamichowdary/Applications/anaconda3/bin/python /private/var/folders/hd/xr2z9snj7yl69m8f9f6z_vg80000gn/T/pip-standalone-pip-zk4_m3i9/__env_pip__.zip/pip install --ignore-installed --no-user --prefix /private/var/folders/hd/xr2z9snj7yl69m8f9f6z_vg80000gn/T/pip-build-env-mp9f_8bm/overlay --no-warn-script-location --no-binary :none: --only-binary :none: -i https://pypi.org/simple -- setuptools wheel 'cython>=0.25' 'cymem>=2.0.2,<2.1.0' 'preshed>=3.0.2,<3.1.0' 'murmurhash>=0.28.0,<1.1.0' thinc==7.4.0\n",
      "       cwd: None\n",
      "  Complete output (395 lines):\n",
      "  Collecting setuptools\n",
      "    Using cached setuptools-65.6.3-py3-none-any.whl (1.2 MB)\n",
      "  Collecting wheel\n",
      "    Using cached wheel-0.38.4-py3-none-any.whl (36 kB)\n",
      "  Collecting cython>=0.25\n",
      "    Downloading Cython-0.29.32-py2.py3-none-any.whl (986 kB)\n",
      "  Collecting cymem<2.1.0,>=2.0.2\n",
      "    Downloading cymem-2.0.7-cp39-cp39-macosx_10_9_x86_64.whl (32 kB)\n",
      "  Collecting preshed<3.1.0,>=3.0.2\n",
      "    Downloading preshed-3.0.8-cp39-cp39-macosx_10_9_x86_64.whl (107 kB)\n",
      "  Collecting murmurhash<1.1.0,>=0.28.0\n",
      "    Downloading murmurhash-1.0.9-cp39-cp39-macosx_10_9_x86_64.whl (18 kB)\n",
      "  Collecting thinc==7.4.0\n",
      "    Downloading thinc-7.4.0.tar.gz (1.3 MB)\n",
      "  Collecting blis<0.5.0,>=0.4.0\n",
      "    Downloading blis-0.4.1.tar.gz (1.8 MB)\n",
      "  Collecting wasabi<1.1.0,>=0.0.9\n",
      "    Downloading wasabi-0.10.1-py3-none-any.whl (26 kB)\n",
      "  Collecting srsly<1.1.0,>=0.0.6\n",
      "    Downloading srsly-1.0.6-cp39-cp39-macosx_10_9_x86_64.whl (209 kB)\n",
      "  Collecting catalogue<1.1.0,>=0.0.7\n",
      "    Downloading catalogue-1.0.2-py2.py3-none-any.whl (16 kB)\n",
      "  Collecting numpy>=1.7.0\n",
      "    Downloading numpy-1.23.5-cp39-cp39-macosx_10_9_x86_64.whl (18.1 MB)\n",
      "  Collecting plac<1.2.0,>=0.9.6\n",
      "    Downloading plac-1.1.3-py2.py3-none-any.whl (20 kB)\n",
      "  Collecting tqdm<5.0.0,>=4.10.0\n",
      "    Downloading tqdm-4.64.1-py2.py3-none-any.whl (78 kB)\n",
      "  Building wheels for collected packages: thinc, blis\n",
      "    Building wheel for thinc (setup.py): started\n",
      "    Building wheel for thinc (setup.py): finished with status 'error'\n",
      "    ERROR: Command errored out with exit status 1:\n",
      "     command: /Users/punamichowdary/Applications/anaconda3/bin/python -u -c 'import io, os, sys, setuptools, tokenize; sys.argv[0] = '\"'\"'/private/var/folders/hd/xr2z9snj7yl69m8f9f6z_vg80000gn/T/pip-install-71tt5pji/thinc_c831ba72be8548d08dfb257c4ec8dead/setup.py'\"'\"'; __file__='\"'\"'/private/var/folders/hd/xr2z9snj7yl69m8f9f6z_vg80000gn/T/pip-install-71tt5pji/thinc_c831ba72be8548d08dfb257c4ec8dead/setup.py'\"'\"';f = getattr(tokenize, '\"'\"'open'\"'\"', open)(__file__) if os.path.exists(__file__) else io.StringIO('\"'\"'from setuptools import setup; setup()'\"'\"');code = f.read().replace('\"'\"'\\r\\n'\"'\"', '\"'\"'\\n'\"'\"');f.close();exec(compile(code, __file__, '\"'\"'exec'\"'\"'))' bdist_wheel -d /private/var/folders/hd/xr2z9snj7yl69m8f9f6z_vg80000gn/T/pip-wheel-rbeqs0yq\n",
      "         cwd: /private/var/folders/hd/xr2z9snj7yl69m8f9f6z_vg80000gn/T/pip-install-71tt5pji/thinc_c831ba72be8548d08dfb257c4ec8dead/\n",
      "    Complete output (178 lines):\n",
      "    running bdist_wheel\n",
      "    running build\n",
      "    running build_py\n",
      "    creating build\n",
      "    creating build/lib.macosx-10.9-x86_64-3.9\n",
      "    creating build/lib.macosx-10.9-x86_64-3.9/thinc\n",
      "    copying thinc/describe.py -> build/lib.macosx-10.9-x86_64-3.9/thinc\n",
      "    copying thinc/misc.py -> build/lib.macosx-10.9-x86_64-3.9/thinc\n",
      "    copying thinc/config.py -> build/lib.macosx-10.9-x86_64-3.9/thinc\n",
      "    copying thinc/compat.py -> build/lib.macosx-10.9-x86_64-3.9/thinc\n",
      "    copying thinc/check.py -> build/lib.macosx-10.9-x86_64-3.9/thinc\n",
      "    copying thinc/__init__.py -> build/lib.macosx-10.9-x86_64-3.9/thinc\n",
      "    copying thinc/t2v.py -> build/lib.macosx-10.9-x86_64-3.9/thinc\n",
      "    copying thinc/about.py -> build/lib.macosx-10.9-x86_64-3.9/thinc\n",
      "    copying thinc/_registry.py -> build/lib.macosx-10.9-x86_64-3.9/thinc\n",
      "    copying thinc/api.py -> build/lib.macosx-10.9-x86_64-3.9/thinc\n",
      "    copying thinc/loss.py -> build/lib.macosx-10.9-x86_64-3.9/thinc\n",
      "    copying thinc/v2v.py -> build/lib.macosx-10.9-x86_64-3.9/thinc\n",
      "    copying thinc/t2t.py -> build/lib.macosx-10.9-x86_64-3.9/thinc\n",
      "    copying thinc/exceptions.py -> build/lib.macosx-10.9-x86_64-3.9/thinc\n",
      "    copying thinc/i2v.py -> build/lib.macosx-10.9-x86_64-3.9/thinc\n",
      "    copying thinc/rates.py -> build/lib.macosx-10.9-x86_64-3.9/thinc\n",
      "    creating build/lib.macosx-10.9-x86_64-3.9/thinc/tests\n",
      "    copying thinc/tests/conftest.py -> build/lib.macosx-10.9-x86_64-3.9/thinc/tests\n",
      "    copying thinc/tests/strategies.py -> build/lib.macosx-10.9-x86_64-3.9/thinc/tests\n",
      "    copying thinc/tests/test_api_funcs.py -> build/lib.macosx-10.9-x86_64-3.9/thinc/tests\n",
      "    copying thinc/tests/util.py -> build/lib.macosx-10.9-x86_64-3.9/thinc/tests\n",
      "    copying thinc/tests/__init__.py -> build/lib.macosx-10.9-x86_64-3.9/thinc/tests\n",
      "    copying thinc/tests/test_util.py -> build/lib.macosx-10.9-x86_64-3.9/thinc/tests\n",
      "    copying thinc/tests/test_config.py -> build/lib.macosx-10.9-x86_64-3.9/thinc/tests\n",
      "    creating build/lib.macosx-10.9-x86_64-3.9/thinc/tests/unit\n",
      "    copying thinc/tests/unit/test_check_exceptions.py -> build/lib.macosx-10.9-x86_64-3.9/thinc/tests/unit\n",
      "    copying thinc/tests/unit/test_model.py -> build/lib.macosx-10.9-x86_64-3.9/thinc/tests/unit\n",
      "    copying thinc/tests/unit/test_hash_embed.py -> build/lib.macosx-10.9-x86_64-3.9/thinc/tests/unit\n",
      "    copying thinc/tests/unit/test_beam_search.py -> build/lib.macosx-10.9-x86_64-3.9/thinc/tests/unit\n",
      "    copying thinc/tests/unit/test_pickle.py -> build/lib.macosx-10.9-x86_64-3.9/thinc/tests/unit\n",
      "    copying thinc/tests/unit/test_pooling.py -> build/lib.macosx-10.9-x86_64-3.9/thinc/tests/unit\n",
      "    copying thinc/tests/unit/test_imports.py -> build/lib.macosx-10.9-x86_64-3.9/thinc/tests/unit\n",
      "    copying thinc/tests/unit/__init__.py -> build/lib.macosx-10.9-x86_64-3.9/thinc/tests/unit\n",
      "    copying thinc/tests/unit/test_rates.py -> build/lib.macosx-10.9-x86_64-3.9/thinc/tests/unit\n",
      "    copying thinc/tests/unit/test_rnn.py -> build/lib.macosx-10.9-x86_64-3.9/thinc/tests/unit\n",
      "    copying thinc/tests/unit/test_loss.py -> build/lib.macosx-10.9-x86_64-3.9/thinc/tests/unit\n",
      "    copying thinc/tests/unit/test_linear.py -> build/lib.macosx-10.9-x86_64-3.9/thinc/tests/unit\n",
      "    copying thinc/tests/unit/test_ops.py -> build/lib.macosx-10.9-x86_64-3.9/thinc/tests/unit\n",
      "    copying thinc/tests/unit/test_pytorch_wrapper.py -> build/lib.macosx-10.9-x86_64-3.9/thinc/tests/unit\n",
      "    copying thinc/tests/unit/test_mem.py -> build/lib.macosx-10.9-x86_64-3.9/thinc/tests/unit\n",
      "    copying thinc/tests/unit/test_difference.py -> build/lib.macosx-10.9-x86_64-3.9/thinc/tests/unit\n",
      "    copying thinc/tests/unit/test_affine.py -> build/lib.macosx-10.9-x86_64-3.9/thinc/tests/unit\n",
      "    copying thinc/tests/unit/test_about.py -> build/lib.macosx-10.9-x86_64-3.9/thinc/tests/unit\n",
      "    copying thinc/tests/unit/test_feature_extracter.py -> build/lib.macosx-10.9-x86_64-3.9/thinc/tests/unit\n",
      "    creating build/lib.macosx-10.9-x86_64-3.9/thinc/tests/integration\n",
      "    copying thinc/tests/integration/test_batch_norm.py -> build/lib.macosx-10.9-x86_64-3.9/thinc/tests/integration\n",
      "    copying thinc/tests/integration/test_pickle.py -> build/lib.macosx-10.9-x86_64-3.9/thinc/tests/integration\n",
      "    copying thinc/tests/integration/test_affine_learns.py -> build/lib.macosx-10.9-x86_64-3.9/thinc/tests/integration\n",
      "    copying thinc/tests/integration/__init__.py -> build/lib.macosx-10.9-x86_64-3.9/thinc/tests/integration\n",
      "    copying thinc/tests/integration/test_mnist.py -> build/lib.macosx-10.9-x86_64-3.9/thinc/tests/integration\n",
      "    copying thinc/tests/integration/test_roundtrip_bytes.py -> build/lib.macosx-10.9-x86_64-3.9/thinc/tests/integration\n",
      "    copying thinc/tests/integration/test_feed_forward.py -> build/lib.macosx-10.9-x86_64-3.9/thinc/tests/integration\n",
      "    copying thinc/tests/integration/test_shape_check.py -> build/lib.macosx-10.9-x86_64-3.9/thinc/tests/integration\n",
      "    copying thinc/tests/integration/test_basic_tagger.py -> build/lib.macosx-10.9-x86_64-3.9/thinc/tests/integration\n",
      "    creating build/lib.macosx-10.9-x86_64-3.9/thinc/tests/linear\n",
      "    copying thinc/tests/linear/test_avgtron.py -> build/lib.macosx-10.9-x86_64-3.9/thinc/tests/linear\n",
      "    copying thinc/tests/linear/__init__.py -> build/lib.macosx-10.9-x86_64-3.9/thinc/tests/linear\n",
      "    copying thinc/tests/linear/test_sparse_array.py -> build/lib.macosx-10.9-x86_64-3.9/thinc/tests/linear\n",
      "    copying thinc/tests/linear/test_linear.py -> build/lib.macosx-10.9-x86_64-3.9/thinc/tests/linear\n",
      "    creating build/lib.macosx-10.9-x86_64-3.9/thinc/linear\n",
      "    copying thinc/linear/__init__.py -> build/lib.macosx-10.9-x86_64-3.9/thinc/linear\n",
      "    creating build/lib.macosx-10.9-x86_64-3.9/thinc/neural\n",
      "    copying thinc/neural/vecs2vecs.py -> build/lib.macosx-10.9-x86_64-3.9/thinc/neural\n",
      "    copying thinc/neural/util.py -> build/lib.macosx-10.9-x86_64-3.9/thinc/neural\n",
      "    copying thinc/neural/pooling.py -> build/lib.macosx-10.9-x86_64-3.9/thinc/neural\n",
      "    copying thinc/neural/__init__.py -> build/lib.macosx-10.9-x86_64-3.9/thinc/neural\n",
      "    copying thinc/neural/vecs2vec.py -> build/lib.macosx-10.9-x86_64-3.9/thinc/neural\n",
      "    copying thinc/neural/_custom_kernels.py -> build/lib.macosx-10.9-x86_64-3.9/thinc/neural\n",
      "    copying thinc/neural/mem.py -> build/lib.macosx-10.9-x86_64-3.9/thinc/neural\n",
      "    copying thinc/neural/vec2vec.py -> build/lib.macosx-10.9-x86_64-3.9/thinc/neural\n",
      "    copying thinc/neural/train.py -> build/lib.macosx-10.9-x86_64-3.9/thinc/neural\n",
      "    copying thinc/neural/_lsuv.py -> build/lib.macosx-10.9-x86_64-3.9/thinc/neural\n",
      "    creating build/lib.macosx-10.9-x86_64-3.9/thinc/extra\n",
      "    copying thinc/extra/load_nlp.py -> build/lib.macosx-10.9-x86_64-3.9/thinc/extra\n",
      "    copying thinc/extra/hpbff.py -> build/lib.macosx-10.9-x86_64-3.9/thinc/extra\n",
      "    copying thinc/extra/datasets.py -> build/lib.macosx-10.9-x86_64-3.9/thinc/extra\n",
      "    copying thinc/extra/__init__.py -> build/lib.macosx-10.9-x86_64-3.9/thinc/extra\n",
      "    copying thinc/extra/wrappers.py -> build/lib.macosx-10.9-x86_64-3.9/thinc/extra\n",
      "    copying thinc/extra/visualizer.py -> build/lib.macosx-10.9-x86_64-3.9/thinc/extra\n",
      "    creating build/lib.macosx-10.9-x86_64-3.9/thinc/neural/_classes\n",
      "    copying thinc/neural/_classes/attention.py -> build/lib.macosx-10.9-x86_64-3.9/thinc/neural/_classes\n",
      "    copying thinc/neural/_classes/convolution.py -> build/lib.macosx-10.9-x86_64-3.9/thinc/neural/_classes\n",
      "    copying thinc/neural/_classes/layernorm.py -> build/lib.macosx-10.9-x86_64-3.9/thinc/neural/_classes\n",
      "    copying thinc/neural/_classes/maxout.py -> build/lib.macosx-10.9-x86_64-3.9/thinc/neural/_classes\n",
      "    copying thinc/neural/_classes/embed.py -> build/lib.macosx-10.9-x86_64-3.9/thinc/neural/_classes\n",
      "    copying thinc/neural/_classes/batchnorm.py -> build/lib.macosx-10.9-x86_64-3.9/thinc/neural/_classes\n",
      "    copying thinc/neural/_classes/difference.py -> build/lib.macosx-10.9-x86_64-3.9/thinc/neural/_classes\n",
      "    copying thinc/neural/_classes/encoder_decoder.py -> build/lib.macosx-10.9-x86_64-3.9/thinc/neural/_classes\n",
      "    copying thinc/neural/_classes/multiheaded_attention.py -> build/lib.macosx-10.9-x86_64-3.9/thinc/neural/_classes\n",
      "    copying thinc/neural/_classes/feed_forward.py -> build/lib.macosx-10.9-x86_64-3.9/thinc/neural/_classes\n",
      "    copying thinc/neural/_classes/mish.py -> build/lib.macosx-10.9-x86_64-3.9/thinc/neural/_classes\n",
      "    copying thinc/neural/_classes/affine.py -> build/lib.macosx-10.9-x86_64-3.9/thinc/neural/_classes\n",
      "    copying thinc/neural/_classes/__init__.py -> build/lib.macosx-10.9-x86_64-3.9/thinc/neural/_classes\n",
      "    copying thinc/neural/_classes/feature_extracter.py -> build/lib.macosx-10.9-x86_64-3.9/thinc/neural/_classes\n",
      "    copying thinc/neural/_classes/model.py -> build/lib.macosx-10.9-x86_64-3.9/thinc/neural/_classes\n",
      "    copying thinc/neural/_classes/function_layer.py -> build/lib.macosx-10.9-x86_64-3.9/thinc/neural/_classes\n",
      "    copying thinc/neural/_classes/resnet.py -> build/lib.macosx-10.9-x86_64-3.9/thinc/neural/_classes\n",
      "    copying thinc/neural/_classes/relu.py -> build/lib.macosx-10.9-x86_64-3.9/thinc/neural/_classes\n",
      "    copying thinc/neural/_classes/static_vectors.py -> build/lib.macosx-10.9-x86_64-3.9/thinc/neural/_classes\n",
      "    copying thinc/neural/_classes/hash_embed.py -> build/lib.macosx-10.9-x86_64-3.9/thinc/neural/_classes\n",
      "    copying thinc/neural/_classes/elu.py -> build/lib.macosx-10.9-x86_64-3.9/thinc/neural/_classes\n",
      "    copying thinc/neural/_classes/rnn.py -> build/lib.macosx-10.9-x86_64-3.9/thinc/neural/_classes\n",
      "    copying thinc/neural/_classes/softmax.py -> build/lib.macosx-10.9-x86_64-3.9/thinc/neural/_classes\n",
      "    copying thinc/neural/_classes/selu.py -> build/lib.macosx-10.9-x86_64-3.9/thinc/neural/_classes\n",
      "    creating build/lib.macosx-10.9-x86_64-3.9/thinc/extra/_vendorized\n",
      "    copying thinc/extra/_vendorized/keras_datasets.py -> build/lib.macosx-10.9-x86_64-3.9/thinc/extra/_vendorized\n",
      "    copying thinc/extra/_vendorized/keras_generic_utils.py -> build/lib.macosx-10.9-x86_64-3.9/thinc/extra/_vendorized\n",
      "    copying thinc/extra/_vendorized/keras_data_utils.py -> build/lib.macosx-10.9-x86_64-3.9/thinc/extra/_vendorized\n",
      "    copying thinc/extra/_vendorized/__init__.py -> build/lib.macosx-10.9-x86_64-3.9/thinc/extra/_vendorized\n",
      "    creating build/lib.macosx-10.9-x86_64-3.9/thinc/extra/wrapt\n",
      "    copying thinc/extra/wrapt/importer.py -> build/lib.macosx-10.9-x86_64-3.9/thinc/extra/wrapt\n",
      "    copying thinc/extra/wrapt/__init__.py -> build/lib.macosx-10.9-x86_64-3.9/thinc/extra/wrapt\n",
      "    copying thinc/extra/wrapt/wrappers.py -> build/lib.macosx-10.9-x86_64-3.9/thinc/extra/wrapt\n",
      "    copying thinc/extra/wrapt/decorators.py -> build/lib.macosx-10.9-x86_64-3.9/thinc/extra/wrapt\n",
      "    copying thinc/structs.pyx -> build/lib.macosx-10.9-x86_64-3.9/thinc\n",
      "    copying thinc/typedefs.pyx -> build/lib.macosx-10.9-x86_64-3.9/thinc\n",
      "    copying thinc/linalg.pyx -> build/lib.macosx-10.9-x86_64-3.9/thinc\n",
      "    copying thinc/linalg.pxd -> build/lib.macosx-10.9-x86_64-3.9/thinc\n",
      "    copying thinc/typedefs.pxd -> build/lib.macosx-10.9-x86_64-3.9/thinc\n",
      "    copying thinc/__init__.pxd -> build/lib.macosx-10.9-x86_64-3.9/thinc\n",
      "    copying thinc/structs.pxd -> build/lib.macosx-10.9-x86_64-3.9/thinc\n",
      "    copying thinc/cpu.pxd -> build/lib.macosx-10.9-x86_64-3.9/thinc\n",
      "    copying thinc/compile_time_constants.pxi -> build/lib.macosx-10.9-x86_64-3.9/thinc\n",
      "    copying thinc/typedefs.cpp -> build/lib.macosx-10.9-x86_64-3.9/thinc\n",
      "    copying thinc/linalg.cpp -> build/lib.macosx-10.9-x86_64-3.9/thinc\n",
      "    copying thinc/structs.cpp -> build/lib.macosx-10.9-x86_64-3.9/thinc\n",
      "    copying thinc/linear/sparse.pyx -> build/lib.macosx-10.9-x86_64-3.9/thinc/linear\n",
      "    copying thinc/linear/features.pyx -> build/lib.macosx-10.9-x86_64-3.9/thinc/linear\n",
      "    copying thinc/linear/avgtron.pyx -> build/lib.macosx-10.9-x86_64-3.9/thinc/linear\n",
      "    copying thinc/linear/serialize.pyx -> build/lib.macosx-10.9-x86_64-3.9/thinc/linear\n",
      "    copying thinc/linear/linear.pyx -> build/lib.macosx-10.9-x86_64-3.9/thinc/linear\n",
      "    copying thinc/linear/serialize.pxd -> build/lib.macosx-10.9-x86_64-3.9/thinc/linear\n",
      "    copying thinc/linear/__init__.pxd -> build/lib.macosx-10.9-x86_64-3.9/thinc/linear\n",
      "    copying thinc/linear/avgtron.pxd -> build/lib.macosx-10.9-x86_64-3.9/thinc/linear\n",
      "    copying thinc/linear/features.pxd -> build/lib.macosx-10.9-x86_64-3.9/thinc/linear\n",
      "    copying thinc/linear/sparse.pxd -> build/lib.macosx-10.9-x86_64-3.9/thinc/linear\n",
      "    copying thinc/linear/serialize.cpp -> build/lib.macosx-10.9-x86_64-3.9/thinc/linear\n",
      "    copying thinc/linear/linear.cpp -> build/lib.macosx-10.9-x86_64-3.9/thinc/linear\n",
      "    copying thinc/linear/avgtron.cpp -> build/lib.macosx-10.9-x86_64-3.9/thinc/linear\n",
      "    copying thinc/linear/features.cpp -> build/lib.macosx-10.9-x86_64-3.9/thinc/linear\n",
      "    copying thinc/linear/sparse.cpp -> build/lib.macosx-10.9-x86_64-3.9/thinc/linear\n",
      "    copying thinc/neural/_aligned_alloc.pyx -> build/lib.macosx-10.9-x86_64-3.9/thinc/neural\n",
      "    copying thinc/neural/optimizers.pyx -> build/lib.macosx-10.9-x86_64-3.9/thinc/neural\n",
      "    copying thinc/neural/ops.pyx -> build/lib.macosx-10.9-x86_64-3.9/thinc/neural\n",
      "    copying thinc/neural/ops.pxd -> build/lib.macosx-10.9-x86_64-3.9/thinc/neural\n",
      "    copying thinc/neural/__init__.pxd -> build/lib.macosx-10.9-x86_64-3.9/thinc/neural\n",
      "    copying thinc/neural/cpu.pxd -> build/lib.macosx-10.9-x86_64-3.9/thinc/neural\n",
      "    copying thinc/neural/optimizers.cpp -> build/lib.macosx-10.9-x86_64-3.9/thinc/neural\n",
      "    copying thinc/neural/ops.cpp -> build/lib.macosx-10.9-x86_64-3.9/thinc/neural\n",
      "    copying thinc/neural/_aligned_alloc.cpp -> build/lib.macosx-10.9-x86_64-3.9/thinc/neural\n",
      "    copying thinc/neural/_custom_kernels.cu -> build/lib.macosx-10.9-x86_64-3.9/thinc/neural\n",
      "    copying thinc/neural/_murmur3.cu -> build/lib.macosx-10.9-x86_64-3.9/thinc/neural\n",
      "    copying thinc/extra/mb.pyx -> build/lib.macosx-10.9-x86_64-3.9/thinc/extra\n",
      "    copying thinc/extra/search.pyx -> build/lib.macosx-10.9-x86_64-3.9/thinc/extra\n",
      "    copying thinc/extra/cache.pyx -> build/lib.macosx-10.9-x86_64-3.9/thinc/extra\n",
      "    copying thinc/extra/eg.pyx -> build/lib.macosx-10.9-x86_64-3.9/thinc/extra\n",
      "    copying thinc/extra/__init__.pxd -> build/lib.macosx-10.9-x86_64-3.9/thinc/extra\n",
      "    copying thinc/extra/eg.pxd -> build/lib.macosx-10.9-x86_64-3.9/thinc/extra\n",
      "    copying thinc/extra/cache.pxd -> build/lib.macosx-10.9-x86_64-3.9/thinc/extra\n",
      "    copying thinc/extra/search.pxd -> build/lib.macosx-10.9-x86_64-3.9/thinc/extra\n",
      "    copying thinc/extra/mb.pxd -> build/lib.macosx-10.9-x86_64-3.9/thinc/extra\n",
      "    copying thinc/extra/eg.cpp -> build/lib.macosx-10.9-x86_64-3.9/thinc/extra\n",
      "    copying thinc/extra/cache.cpp -> build/lib.macosx-10.9-x86_64-3.9/thinc/extra\n",
      "    copying thinc/extra/search.cpp -> build/lib.macosx-10.9-x86_64-3.9/thinc/extra\n",
      "    copying thinc/extra/mb.cpp -> build/lib.macosx-10.9-x86_64-3.9/thinc/extra\n",
      "    running build_ext\n",
      "    building 'thinc.linalg' extension\n",
      "    creating build/temp.macosx-10.9-x86_64-3.9\n",
      "    creating build/temp.macosx-10.9-x86_64-3.9/thinc\n",
      "    clang -Wno-unused-result -Wsign-compare -Wunreachable-code -DNDEBUG -fwrapv -O2 -Wall -fPIC -O2 -isystem /Users/punamichowdary/Applications/anaconda3/include -arch x86_64 -I/Users/punamichowdary/Applications/anaconda3/include -fPIC -O2 -isystem /Users/punamichowdary/Applications/anaconda3/include -arch x86_64 -I/Users/punamichowdary/Applications/anaconda3/include/python3.9 -I/private/var/folders/hd/xr2z9snj7yl69m8f9f6z_vg80000gn/T/pip-install-71tt5pji/thinc_c831ba72be8548d08dfb257c4ec8dead/include -I/Users/punamichowdary/Applications/anaconda3/include/python3.9 -c thinc/linalg.cpp -o build/temp.macosx-10.9-x86_64-3.9/thinc/linalg.o -O3 -Wno-strict-prototypes -Wno-unused-function -stdlib=libc++\n",
      "    xcrun: error: invalid active developer path (/Library/Developer/CommandLineTools), missing xcrun at: /Library/Developer/CommandLineTools/usr/bin/xcrun\n",
      "    error: command '/usr/bin/clang' failed with exit code 1\n",
      "    ----------------------------------------\n",
      "    ERROR: Failed building wheel for thinc\n",
      "    Running setup.py clean for thinc\n",
      "    Building wheel for blis (setup.py): started\n",
      "    Building wheel for blis (setup.py): finished with status 'error'\n",
      "    ERROR: Command errored out with exit status 1:\n",
      "     command: /Users/punamichowdary/Applications/anaconda3/bin/python -u -c 'import io, os, sys, setuptools, tokenize; sys.argv[0] = '\"'\"'/private/var/folders/hd/xr2z9snj7yl69m8f9f6z_vg80000gn/T/pip-install-71tt5pji/blis_dbe7cb57d459445984f17b5c5d7d6503/setup.py'\"'\"'; __file__='\"'\"'/private/var/folders/hd/xr2z9snj7yl69m8f9f6z_vg80000gn/T/pip-install-71tt5pji/blis_dbe7cb57d459445984f17b5c5d7d6503/setup.py'\"'\"';f = getattr(tokenize, '\"'\"'open'\"'\"', open)(__file__) if os.path.exists(__file__) else io.StringIO('\"'\"'from setuptools import setup; setup()'\"'\"');code = f.read().replace('\"'\"'\\r\\n'\"'\"', '\"'\"'\\n'\"'\"');f.close();exec(compile(code, __file__, '\"'\"'exec'\"'\"'))' bdist_wheel -d /private/var/folders/hd/xr2z9snj7yl69m8f9f6z_vg80000gn/T/pip-wheel-wlvjv8nd\n",
      "         cwd: /private/var/folders/hd/xr2z9snj7yl69m8f9f6z_vg80000gn/T/pip-install-71tt5pji/blis_dbe7cb57d459445984f17b5c5d7d6503/\n",
      "    Complete output (78 lines):\n",
      "    BLIS_COMPILER? None\n",
      "    running bdist_wheel\n",
      "    running build\n",
      "    running build_py\n",
      "    creating build\n",
      "    creating build/lib.macosx-10.9-x86_64-3.9\n",
      "    creating build/lib.macosx-10.9-x86_64-3.9/blis\n",
      "    copying blis/benchmark.py -> build/lib.macosx-10.9-x86_64-3.9/blis\n",
      "    copying blis/__init__.py -> build/lib.macosx-10.9-x86_64-3.9/blis\n",
      "    copying blis/about.py -> build/lib.macosx-10.9-x86_64-3.9/blis\n",
      "    creating build/lib.macosx-10.9-x86_64-3.9/blis/tests\n",
      "    copying blis/tests/__init__.py -> build/lib.macosx-10.9-x86_64-3.9/blis/tests\n",
      "    copying blis/tests/test_dotv.py -> build/lib.macosx-10.9-x86_64-3.9/blis/tests\n",
      "    copying blis/tests/test_gemm.py -> build/lib.macosx-10.9-x86_64-3.9/blis/tests\n",
      "    copying blis/tests/common.py -> build/lib.macosx-10.9-x86_64-3.9/blis/tests\n",
      "    copying blis/cy.pyx -> build/lib.macosx-10.9-x86_64-3.9/blis\n",
      "    copying blis/py.pyx -> build/lib.macosx-10.9-x86_64-3.9/blis\n",
      "    copying blis/__init__.pxd -> build/lib.macosx-10.9-x86_64-3.9/blis\n",
      "    copying blis/cy.pxd -> build/lib.macosx-10.9-x86_64-3.9/blis\n",
      "    running build_ext\n",
      "    /private/var/folders/hd/xr2z9snj7yl69m8f9f6z_vg80000gn/T/pip-install-71tt5pji/blis_dbe7cb57d459445984f17b5c5d7d6503/bin/cythonize.py:58: DeprecationWarning: distutils Version classes are deprecated. Use packaging.version instead.\n",
      "      if LooseVersion(cython_version) < LooseVersion('0.19'):\n",
      "    /Users/punamichowdary/Applications/anaconda3/lib/python3.9/site-packages/Cython/Compiler/Main.py:369: FutureWarning: Cython directive 'language_level' not set, using 2 for now (Py2). This will change in a later release! File: /private/var/folders/hd/xr2z9snj7yl69m8f9f6z_vg80000gn/T/pip-install-71tt5pji/blis_dbe7cb57d459445984f17b5c5d7d6503/blis/cy.pxd\n",
      "      tree = Parsing.p_module(s, pxd, full_module_name)\n",
      "    /private/var/folders/hd/xr2z9snj7yl69m8f9f6z_vg80000gn/T/pip-install-71tt5pji/blis_dbe7cb57d459445984f17b5c5d7d6503/bin/cythonize.py:58: DeprecationWarning: distutils Version classes are deprecated. Use packaging.version instead.\n",
      "      if LooseVersion(cython_version) < LooseVersion('0.19'):\n",
      "    /Users/punamichowdary/Applications/anaconda3/lib/python3.9/site-packages/Cython/Compiler/Main.py:369: FutureWarning: Cython directive 'language_level' not set, using 2 for now (Py2). This will change in a later release! File: /private/var/folders/hd/xr2z9snj7yl69m8f9f6z_vg80000gn/T/pip-install-71tt5pji/blis_dbe7cb57d459445984f17b5c5d7d6503/blis/py.pyx\n",
      "      tree = Parsing.p_module(s, pxd, full_module_name)\n",
      "    Processing blis/cy.pyx\n",
      "    Processing blis/py.pyx\n",
      "    unix\n",
      "    py_compiler gcc\n",
      "    {'TRAVIS_ARCH': 'amd64', 'rvm_bin_path': '/Users/travis/.rvm/bin', 'NVM_CD_FLAGS': '', 'GEM_HOME': '/Users/travis/.rvm/gems/ruby-2.4.3', 'HAS_JOSH_K_SEAL_OF_APPROVAL': 'true', 'SHELL': '/bin/bash', 'TERM': 'xterm', 'TRAVIS_TEST_RESULT': '', 'PYTHON_EXE': '/Users/travis/build/explosion/cython-blis/venv/bin/python', 'TMPDIR': '/var/folders/nz/vv4_9tw56nv9k3tkvyszvwg80000gn/T/', 'IRBRC': '/Users/travis/.rvm/rubies/ruby-2.4.3/.irbrc', 'Apple_PubSub_Socket_Render': '/private/tmp/com.apple.launchd.KSqzJVi3Ll/Render', 'TRAVIS_COMMIT': '2435bb60768369ae2d5b4b056bc12a80333f6658', 'TRAVIS_APT_PROXY': 'http://build-cache.travisci.net', 'TRAVIS_OS_NAME': 'osx', 'TRAVIS_JOB_NAME': '', 'OLDPWD': '/Users/travis/build/explosion/cython-blis', 'TRAVIS_INTERNAL_RUBY_REGEX': '^ruby-(2\\\\.[0-4]\\\\.[0-9]|1\\\\.9\\\\.3)', 'MY_RUBY_HOME': '/Users/travis/.rvm/rubies/ruby-2.4.3', 'TRAVIS_ROOT': '/', 'LC_ALL': 'en_US.UTF-8', 'TRAVIS_TIMER_ID': '367ffaac', 'USER': 'travis', 'NVM_DIR': '/Users/travis/.nvm', 'ANSI_GREEN': '\\\\033[32;1m', '_system_type': 'Darwin', 'TRAVIS_INFRA': 'macstadium', 'TRAVIS_LANGUAGE': 'generic', 'rvm_path': '/Users/travis/.rvm', 'ANSI_RESET': '\\\\033[0m', 'SSH_AUTH_SOCK': '/private/tmp/com.apple.launchd.TiElbGqhQ7/Listeners', 'TRAVIS_DIST': 'notset', '__CF_USER_TEXT_ENCODING': '0x1F5:0x0:0x0', 'TRAVIS': 'true', 'ANSI_YELLOW': '\\\\033[33;1m', 'TRAVIS_REPO_SLUG': 'explosion/cython-blis', 'PAGER': 'cat', 'TRAVIS_PULL_REQUEST': 'false', 'TRAVIS_COMMIT_MESSAGE': 'Try to fix travis export', 'TRAVIS_BUILD_STAGE_NAME': '', 'VIRTUAL_ENV': '/Users/travis/build/explosion/cython-blis/venv', 'TRAVIS_CMD': 'if [[ \"$TRAVIS_OS_NAME\" == \"osx\" ]]; then ./bin/generate-make-jsonl darwin x86_64 --export; fi', 'rvm_prefix': '/Users/travis', 'PATH': '/Users/travis/build/explosion/cython-blis/venv/bin:/Users/travis/.rvm/gems/ruby-2.4.3/bin:/Users/travis/.rvm/gems/ruby-2.4.3@global/bin:/Users/travis/.rvm/rubies/ruby-2.4.3/bin:/Users/travis/.rvm/bin:/Users/travis/bin:/Users/travis/.local/bin:/Users/travis/.nvm/versions/node/v6.14.3/bin:/usr/local/bin:/usr/bin:/bin:/usr/sbin:/sbin:/opt/X11/bin', 'TRAVIS_TMPDIR': '/var/folders/nz/vv4_9tw56nv9k3tkvyszvwg80000gn/T/tmp.dYZ1JSlR', 'TRAVIS_JOB_WEB_URL': 'https://travis-ci.org/explosion/cython-blis/jobs/506249336', 'TRAVIS_OSX_IMAGE': '', 'TRAVIS_PULL_REQUEST_SHA': '', 'TRAVIS_BUILD_WEB_URL': 'https://travis-ci.org/explosion/cython-blis/builds/506249333', 'UNICODE_WIDTH': '32', 'PWD': '/Users/travis/build/explosion/cython-blis/flame-blis', 'CONTINUOUS_INTEGRATION': 'true', 'LANG': 'en_US.UTF-8', 'XPC_FLAGS': '0x0', '_system_arch': 'x86_64', 'TRAVIS_ENABLE_INFRA_DETECTION': 'true', '_system_version': '10.13', 'TRAVIS_SUDO': 'true', 'TRAVIS_ALLOW_FAILURE': 'false', 'TRAVIS_TAG': '', 'XPC_SERVICE_NAME': '0', 'TRAVIS_HOME': '/Users/travis', 'MB_PYTHON_VERSION': '3.6', 'CXX': 'clang++', 'rvm_version': '1.29.3 (latest)', 'TRAVIS_INIT': 'notset', 'HOME': '/Users/travis', 'PS4': '+', 'SHLVL': '2', 'rvm_pretty_print_flag': 'auto', 'TRAVIS_EVENT_TYPE': 'push', 'TRAVIS_JOB_NUMBER': '511.3', 'ANSI_CLEAR': '\\\\033[0K', 'CI': 'true', 'TRAVIS_TIMER_START_TIME': '1552568307662747000', 'TRAVIS_BUILD_ID': '506249333', 'LOGNAME': 'travis', 'MACOSX_DEPLOYMENT_TARGET': '10.7', 'GEM_PATH': '/Users/travis/.rvm/gems/ruby-2.4.3:/Users/travis/.rvm/gems/ruby-2.4.3@global', 'TRAVIS_PULL_REQUEST_SLUG': '', 'DEBIAN_FRONTEND': 'noninteractive', 'TRAVIS_SECURE_ENV_VARS': 'false', 'PIP_CMD': '/Users/travis/build/explosion/cython-blis/venv/bin/pip', 'NVM_BIN': '/Users/travis/.nvm/versions/node/v6.14.3/bin', 'TRAVIS_APP_HOST': 'build.travis-ci.org', 'GIT_ASKPASS': 'echo', 'DISPLAY': '/private/tmp/com.apple.launchd.uF8XjeYY64/org.macosforge.xquartz:0', 'TRAVIS_BRANCH': 'update-blis', 'CC': 'clang', 'TRAVIS_COMMIT_RANGE': '9aa6c2ee9c3b...2435bb607683', 'PLAT': 'x86_64', 'TRAVIS_PULL_REQUEST_BRANCH': '', 'RUBY_VERSION': 'ruby-2.4.3', 'ANSI_RED': '\\\\033[31;1m', 'TRAVIS_JOB_ID': '506249336', 'TRAVIS_BUILD_DIR': '/Users/travis/build/explosion/cython-blis', '_system_name': 'OSX', 'TRAVIS_BUILD_NUMBER': '511', 'BASH_FUNC_shell_session_update%%': '() {  :\\n}', '_': '/Users/travis/build/explosion/cython-blis/venv/bin/python'}\n",
      "    clang -c /private/var/folders/hd/xr2z9snj7yl69m8f9f6z_vg80000gn/T/pip-install-71tt5pji/blis_dbe7cb57d459445984f17b5c5d7d6503/blis/_src/config/bulldozer/bli_cntx_init_bulldozer.c -o /var/folders/hd/xr2z9snj7yl69m8f9f6z_vg80000gn/T/tmpvcq2__0m/bli_cntx_init_bulldozer.o -O3 -fPIC -std=c99 -D_POSIX_C_SOURCE=200112L -DBLIS_VERSION_STRING=\"0.5.1\" -DBLIS_IS_BUILDING_LIBRARY -Iinclude/darwin-x86_64 -I./frame/3/ -I./frame/ind/ukernels/ -I./frame/1m/ -I./frame/1f/ -I./frame/1/ -I./frame/include -I/private/var/folders/hd/xr2z9snj7yl69m8f9f6z_vg80000gn/T/pip-install-71tt5pji/blis_dbe7cb57d459445984f17b5c5d7d6503/blis/_src/include/darwin-x86_64\n",
      "    xcrun: error: invalid active developer path (/Library/Developer/CommandLineTools), missing xcrun at: /Library/Developer/CommandLineTools/usr/bin/xcrun\n",
      "    Traceback (most recent call last):\n",
      "      File \"<string>\", line 1, in <module>\n",
      "      File \"/private/var/folders/hd/xr2z9snj7yl69m8f9f6z_vg80000gn/T/pip-install-71tt5pji/blis_dbe7cb57d459445984f17b5c5d7d6503/setup.py\", line 239, in <module>\n",
      "        setup(\n",
      "      File \"/Users/punamichowdary/Applications/anaconda3/lib/python3.9/site-packages/setuptools/__init__.py\", line 87, in setup\n",
      "        return distutils.core.setup(**attrs)\n",
      "      File \"/Users/punamichowdary/Applications/anaconda3/lib/python3.9/site-packages/setuptools/_distutils/core.py\", line 148, in setup\n",
      "        return run_commands(dist)\n",
      "      File \"/Users/punamichowdary/Applications/anaconda3/lib/python3.9/site-packages/setuptools/_distutils/core.py\", line 163, in run_commands\n",
      "        dist.run_commands()\n",
      "      File \"/Users/punamichowdary/Applications/anaconda3/lib/python3.9/site-packages/setuptools/_distutils/dist.py\", line 967, in run_commands\n",
      "        self.run_command(cmd)\n",
      "      File \"/Users/punamichowdary/Applications/anaconda3/lib/python3.9/site-packages/setuptools/dist.py\", line 1214, in run_command\n",
      "        super().run_command(command)\n",
      "      File \"/Users/punamichowdary/Applications/anaconda3/lib/python3.9/site-packages/setuptools/_distutils/dist.py\", line 986, in run_command\n",
      "        cmd_obj.run()\n",
      "      File \"/Users/punamichowdary/Applications/anaconda3/lib/python3.9/site-packages/wheel/bdist_wheel.py\", line 299, in run\n",
      "        self.run_command('build')\n",
      "      File \"/Users/punamichowdary/Applications/anaconda3/lib/python3.9/site-packages/setuptools/_distutils/cmd.py\", line 313, in run_command\n",
      "        self.distribution.run_command(command)\n",
      "      File \"/Users/punamichowdary/Applications/anaconda3/lib/python3.9/site-packages/setuptools/dist.py\", line 1214, in run_command\n",
      "        super().run_command(command)\n",
      "      File \"/Users/punamichowdary/Applications/anaconda3/lib/python3.9/site-packages/setuptools/_distutils/dist.py\", line 986, in run_command\n",
      "        cmd_obj.run()\n",
      "      File \"/Users/punamichowdary/Applications/anaconda3/lib/python3.9/site-packages/setuptools/_distutils/command/build.py\", line 135, in run\n",
      "        self.run_command(cmd_name)\n",
      "      File \"/Users/punamichowdary/Applications/anaconda3/lib/python3.9/site-packages/setuptools/_distutils/cmd.py\", line 313, in run_command\n",
      "        self.distribution.run_command(command)\n",
      "      File \"/Users/punamichowdary/Applications/anaconda3/lib/python3.9/site-packages/setuptools/dist.py\", line 1214, in run_command\n",
      "        super().run_command(command)\n",
      "      File \"/Users/punamichowdary/Applications/anaconda3/lib/python3.9/site-packages/setuptools/_distutils/dist.py\", line 986, in run_command\n",
      "        cmd_obj.run()\n",
      "      File \"/Users/punamichowdary/Applications/anaconda3/lib/python3.9/site-packages/setuptools/_distutils/command/build_ext.py\", line 339, in run\n",
      "        self.build_extensions()\n",
      "      File \"/private/var/folders/hd/xr2z9snj7yl69m8f9f6z_vg80000gn/T/pip-install-71tt5pji/blis_dbe7cb57d459445984f17b5c5d7d6503/setup.py\", line 103, in build_extensions\n",
      "        objects = self.compile_objects(compiler.split(\"-\")[0], arch, OBJ_DIR)\n",
      "      File \"/private/var/folders/hd/xr2z9snj7yl69m8f9f6z_vg80000gn/T/pip-install-71tt5pji/blis_dbe7cb57d459445984f17b5c5d7d6503/setup.py\", line 188, in compile_objects\n",
      "        objects.append(self.build_object(env=env, **spec))\n",
      "      File \"/private/var/folders/hd/xr2z9snj7yl69m8f9f6z_vg80000gn/T/pip-install-71tt5pji/blis_dbe7cb57d459445984f17b5c5d7d6503/setup.py\", line 201, in build_object\n",
      "        subprocess.check_call(command, cwd=BLIS_DIR)\n",
      "      File \"/Users/punamichowdary/Applications/anaconda3/lib/python3.9/subprocess.py\", line 373, in check_call\n",
      "        raise CalledProcessError(retcode, cmd)\n",
      "    subprocess.CalledProcessError: Command '['clang', '-c', '/private/var/folders/hd/xr2z9snj7yl69m8f9f6z_vg80000gn/T/pip-install-71tt5pji/blis_dbe7cb57d459445984f17b5c5d7d6503/blis/_src/config/bulldozer/bli_cntx_init_bulldozer.c', '-o', '/var/folders/hd/xr2z9snj7yl69m8f9f6z_vg80000gn/T/tmpvcq2__0m/bli_cntx_init_bulldozer.o', '-O3', '-fPIC', '-std=c99', '-D_POSIX_C_SOURCE=200112L', '-DBLIS_VERSION_STRING=\"0.5.1\"', '-DBLIS_IS_BUILDING_LIBRARY', '-Iinclude/darwin-x86_64', '-I./frame/3/', '-I./frame/ind/ukernels/', '-I./frame/1m/', '-I./frame/1f/', '-I./frame/1/', '-I./frame/include', '-I/private/var/folders/hd/xr2z9snj7yl69m8f9f6z_vg80000gn/T/pip-install-71tt5pji/blis_dbe7cb57d459445984f17b5c5d7d6503/blis/_src/include/darwin-x86_64']' returned non-zero exit status 1.\n",
      "    ----------------------------------------\n",
      "    ERROR: Failed building wheel for blis\n",
      "    Running setup.py clean for blis\n",
      "  Failed to build thinc blis\n",
      "  Installing collected packages: numpy, murmurhash, cymem, wasabi, tqdm, srsly, preshed, plac, catalogue, blis, wheel, thinc, setuptools, cython\n",
      "      Running setup.py install for blis: started\n",
      "      Running setup.py install for blis: finished with status 'error'\n",
      "      ERROR: Command errored out with exit status 1:\n",
      "       command: /Users/punamichowdary/Applications/anaconda3/bin/python -u -c 'import io, os, sys, setuptools, tokenize; sys.argv[0] = '\"'\"'/private/var/folders/hd/xr2z9snj7yl69m8f9f6z_vg80000gn/T/pip-install-71tt5pji/blis_dbe7cb57d459445984f17b5c5d7d6503/setup.py'\"'\"'; __file__='\"'\"'/private/var/folders/hd/xr2z9snj7yl69m8f9f6z_vg80000gn/T/pip-install-71tt5pji/blis_dbe7cb57d459445984f17b5c5d7d6503/setup.py'\"'\"';f = getattr(tokenize, '\"'\"'open'\"'\"', open)(__file__) if os.path.exists(__file__) else io.StringIO('\"'\"'from setuptools import setup; setup()'\"'\"');code = f.read().replace('\"'\"'\\r\\n'\"'\"', '\"'\"'\\n'\"'\"');f.close();exec(compile(code, __file__, '\"'\"'exec'\"'\"'))' install --record /private/var/folders/hd/xr2z9snj7yl69m8f9f6z_vg80000gn/T/pip-record-en6442o5/install-record.txt --single-version-externally-managed --prefix /private/var/folders/hd/xr2z9snj7yl69m8f9f6z_vg80000gn/T/pip-build-env-mp9f_8bm/overlay --compile --install-headers /private/var/folders/hd/xr2z9snj7yl69m8f9f6z_vg80000gn/T/pip-build-env-mp9f_8bm/overlay/include/python3.9/blis\n",
      "           cwd: /private/var/folders/hd/xr2z9snj7yl69m8f9f6z_vg80000gn/T/pip-install-71tt5pji/blis_dbe7cb57d459445984f17b5c5d7d6503/\n",
      "      Complete output (82 lines):\n",
      "      BLIS_COMPILER? None\n",
      "      running install\n",
      "      /Users/punamichowdary/Applications/anaconda3/lib/python3.9/site-packages/setuptools/command/install.py:34: SetuptoolsDeprecationWarning: setup.py install is deprecated. Use build and pip and other standards-based tools.\n",
      "        warnings.warn(\n",
      "      running build\n",
      "      running build_py\n",
      "      creating build\n",
      "      creating build/lib.macosx-10.9-x86_64-3.9\n",
      "      creating build/lib.macosx-10.9-x86_64-3.9/blis\n",
      "      copying blis/benchmark.py -> build/lib.macosx-10.9-x86_64-3.9/blis\n",
      "      copying blis/__init__.py -> build/lib.macosx-10.9-x86_64-3.9/blis\n",
      "      copying blis/about.py -> build/lib.macosx-10.9-x86_64-3.9/blis\n",
      "      creating build/lib.macosx-10.9-x86_64-3.9/blis/tests\n",
      "      copying blis/tests/__init__.py -> build/lib.macosx-10.9-x86_64-3.9/blis/tests\n",
      "      copying blis/tests/test_dotv.py -> build/lib.macosx-10.9-x86_64-3.9/blis/tests\n",
      "      copying blis/tests/test_gemm.py -> build/lib.macosx-10.9-x86_64-3.9/blis/tests\n",
      "      copying blis/tests/common.py -> build/lib.macosx-10.9-x86_64-3.9/blis/tests\n",
      "      copying blis/cy.pyx -> build/lib.macosx-10.9-x86_64-3.9/blis\n",
      "      copying blis/py.pyx -> build/lib.macosx-10.9-x86_64-3.9/blis\n",
      "      copying blis/__init__.pxd -> build/lib.macosx-10.9-x86_64-3.9/blis\n",
      "      copying blis/cy.pxd -> build/lib.macosx-10.9-x86_64-3.9/blis\n",
      "      running build_ext\n",
      "      /private/var/folders/hd/xr2z9snj7yl69m8f9f6z_vg80000gn/T/pip-install-71tt5pji/blis_dbe7cb57d459445984f17b5c5d7d6503/bin/cythonize.py:58: DeprecationWarning: distutils Version classes are deprecated. Use packaging.version instead.\n",
      "        if LooseVersion(cython_version) < LooseVersion('0.19'):\n",
      "      /Users/punamichowdary/Applications/anaconda3/lib/python3.9/site-packages/Cython/Compiler/Main.py:369: FutureWarning: Cython directive 'language_level' not set, using 2 for now (Py2). This will change in a later release! File: /private/var/folders/hd/xr2z9snj7yl69m8f9f6z_vg80000gn/T/pip-install-71tt5pji/blis_dbe7cb57d459445984f17b5c5d7d6503/blis/cy.pxd\n",
      "        tree = Parsing.p_module(s, pxd, full_module_name)\n",
      "      /private/var/folders/hd/xr2z9snj7yl69m8f9f6z_vg80000gn/T/pip-install-71tt5pji/blis_dbe7cb57d459445984f17b5c5d7d6503/bin/cythonize.py:58: DeprecationWarning: distutils Version classes are deprecated. Use packaging.version instead.\n",
      "        if LooseVersion(cython_version) < LooseVersion('0.19'):\n",
      "      /Users/punamichowdary/Applications/anaconda3/lib/python3.9/site-packages/Cython/Compiler/Main.py:369: FutureWarning: Cython directive 'language_level' not set, using 2 for now (Py2). This will change in a later release! File: /private/var/folders/hd/xr2z9snj7yl69m8f9f6z_vg80000gn/T/pip-install-71tt5pji/blis_dbe7cb57d459445984f17b5c5d7d6503/blis/py.pyx\n",
      "        tree = Parsing.p_module(s, pxd, full_module_name)\n",
      "      Processing blis/cy.pyx\n",
      "      Processing blis/py.pyx\n",
      "      unix\n",
      "      py_compiler gcc\n",
      "      {'TRAVIS_ARCH': 'amd64', 'rvm_bin_path': '/Users/travis/.rvm/bin', 'NVM_CD_FLAGS': '', 'GEM_HOME': '/Users/travis/.rvm/gems/ruby-2.4.3', 'HAS_JOSH_K_SEAL_OF_APPROVAL': 'true', 'SHELL': '/bin/bash', 'TERM': 'xterm', 'TRAVIS_TEST_RESULT': '', 'PYTHON_EXE': '/Users/travis/build/explosion/cython-blis/venv/bin/python', 'TMPDIR': '/var/folders/nz/vv4_9tw56nv9k3tkvyszvwg80000gn/T/', 'IRBRC': '/Users/travis/.rvm/rubies/ruby-2.4.3/.irbrc', 'Apple_PubSub_Socket_Render': '/private/tmp/com.apple.launchd.KSqzJVi3Ll/Render', 'TRAVIS_COMMIT': '2435bb60768369ae2d5b4b056bc12a80333f6658', 'TRAVIS_APT_PROXY': 'http://build-cache.travisci.net', 'TRAVIS_OS_NAME': 'osx', 'TRAVIS_JOB_NAME': '', 'OLDPWD': '/Users/travis/build/explosion/cython-blis', 'TRAVIS_INTERNAL_RUBY_REGEX': '^ruby-(2\\\\.[0-4]\\\\.[0-9]|1\\\\.9\\\\.3)', 'MY_RUBY_HOME': '/Users/travis/.rvm/rubies/ruby-2.4.3', 'TRAVIS_ROOT': '/', 'LC_ALL': 'en_US.UTF-8', 'TRAVIS_TIMER_ID': '367ffaac', 'USER': 'travis', 'NVM_DIR': '/Users/travis/.nvm', 'ANSI_GREEN': '\\\\033[32;1m', '_system_type': 'Darwin', 'TRAVIS_INFRA': 'macstadium', 'TRAVIS_LANGUAGE': 'generic', 'rvm_path': '/Users/travis/.rvm', 'ANSI_RESET': '\\\\033[0m', 'SSH_AUTH_SOCK': '/private/tmp/com.apple.launchd.TiElbGqhQ7/Listeners', 'TRAVIS_DIST': 'notset', '__CF_USER_TEXT_ENCODING': '0x1F5:0x0:0x0', 'TRAVIS': 'true', 'ANSI_YELLOW': '\\\\033[33;1m', 'TRAVIS_REPO_SLUG': 'explosion/cython-blis', 'PAGER': 'cat', 'TRAVIS_PULL_REQUEST': 'false', 'TRAVIS_COMMIT_MESSAGE': 'Try to fix travis export', 'TRAVIS_BUILD_STAGE_NAME': '', 'VIRTUAL_ENV': '/Users/travis/build/explosion/cython-blis/venv', 'TRAVIS_CMD': 'if [[ \"$TRAVIS_OS_NAME\" == \"osx\" ]]; then ./bin/generate-make-jsonl darwin x86_64 --export; fi', 'rvm_prefix': '/Users/travis', 'PATH': '/Users/travis/build/explosion/cython-blis/venv/bin:/Users/travis/.rvm/gems/ruby-2.4.3/bin:/Users/travis/.rvm/gems/ruby-2.4.3@global/bin:/Users/travis/.rvm/rubies/ruby-2.4.3/bin:/Users/travis/.rvm/bin:/Users/travis/bin:/Users/travis/.local/bin:/Users/travis/.nvm/versions/node/v6.14.3/bin:/usr/local/bin:/usr/bin:/bin:/usr/sbin:/sbin:/opt/X11/bin', 'TRAVIS_TMPDIR': '/var/folders/nz/vv4_9tw56nv9k3tkvyszvwg80000gn/T/tmp.dYZ1JSlR', 'TRAVIS_JOB_WEB_URL': 'https://travis-ci.org/explosion/cython-blis/jobs/506249336', 'TRAVIS_OSX_IMAGE': '', 'TRAVIS_PULL_REQUEST_SHA': '', 'TRAVIS_BUILD_WEB_URL': 'https://travis-ci.org/explosion/cython-blis/builds/506249333', 'UNICODE_WIDTH': '32', 'PWD': '/Users/travis/build/explosion/cython-blis/flame-blis', 'CONTINUOUS_INTEGRATION': 'true', 'LANG': 'en_US.UTF-8', 'XPC_FLAGS': '0x0', '_system_arch': 'x86_64', 'TRAVIS_ENABLE_INFRA_DETECTION': 'true', '_system_version': '10.13', 'TRAVIS_SUDO': 'true', 'TRAVIS_ALLOW_FAILURE': 'false', 'TRAVIS_TAG': '', 'XPC_SERVICE_NAME': '0', 'TRAVIS_HOME': '/Users/travis', 'MB_PYTHON_VERSION': '3.6', 'CXX': 'clang++', 'rvm_version': '1.29.3 (latest)', 'TRAVIS_INIT': 'notset', 'HOME': '/Users/travis', 'PS4': '+', 'SHLVL': '2', 'rvm_pretty_print_flag': 'auto', 'TRAVIS_EVENT_TYPE': 'push', 'TRAVIS_JOB_NUMBER': '511.3', 'ANSI_CLEAR': '\\\\033[0K', 'CI': 'true', 'TRAVIS_TIMER_START_TIME': '1552568307662747000', 'TRAVIS_BUILD_ID': '506249333', 'LOGNAME': 'travis', 'MACOSX_DEPLOYMENT_TARGET': '10.7', 'GEM_PATH': '/Users/travis/.rvm/gems/ruby-2.4.3:/Users/travis/.rvm/gems/ruby-2.4.3@global', 'TRAVIS_PULL_REQUEST_SLUG': '', 'DEBIAN_FRONTEND': 'noninteractive', 'TRAVIS_SECURE_ENV_VARS': 'false', 'PIP_CMD': '/Users/travis/build/explosion/cython-blis/venv/bin/pip', 'NVM_BIN': '/Users/travis/.nvm/versions/node/v6.14.3/bin', 'TRAVIS_APP_HOST': 'build.travis-ci.org', 'GIT_ASKPASS': 'echo', 'DISPLAY': '/private/tmp/com.apple.launchd.uF8XjeYY64/org.macosforge.xquartz:0', 'TRAVIS_BRANCH': 'update-blis', 'CC': 'clang', 'TRAVIS_COMMIT_RANGE': '9aa6c2ee9c3b...2435bb607683', 'PLAT': 'x86_64', 'TRAVIS_PULL_REQUEST_BRANCH': '', 'RUBY_VERSION': 'ruby-2.4.3', 'ANSI_RED': '\\\\033[31;1m', 'TRAVIS_JOB_ID': '506249336', 'TRAVIS_BUILD_DIR': '/Users/travis/build/explosion/cython-blis', '_system_name': 'OSX', 'TRAVIS_BUILD_NUMBER': '511', 'BASH_FUNC_shell_session_update%%': '() {  :\\n}', '_': '/Users/travis/build/explosion/cython-blis/venv/bin/python'}\n",
      "      clang -c /private/var/folders/hd/xr2z9snj7yl69m8f9f6z_vg80000gn/T/pip-install-71tt5pji/blis_dbe7cb57d459445984f17b5c5d7d6503/blis/_src/config/bulldozer/bli_cntx_init_bulldozer.c -o /var/folders/hd/xr2z9snj7yl69m8f9f6z_vg80000gn/T/tmpnpdapsry/bli_cntx_init_bulldozer.o -O3 -fPIC -std=c99 -D_POSIX_C_SOURCE=200112L -DBLIS_VERSION_STRING=\"0.5.1\" -DBLIS_IS_BUILDING_LIBRARY -Iinclude/darwin-x86_64 -I./frame/3/ -I./frame/ind/ukernels/ -I./frame/1m/ -I./frame/1f/ -I./frame/1/ -I./frame/include -I/private/var/folders/hd/xr2z9snj7yl69m8f9f6z_vg80000gn/T/pip-install-71tt5pji/blis_dbe7cb57d459445984f17b5c5d7d6503/blis/_src/include/darwin-x86_64\n",
      "      xcrun: error: invalid active developer path (/Library/Developer/CommandLineTools), missing xcrun at: /Library/Developer/CommandLineTools/usr/bin/xcrun\n",
      "      Traceback (most recent call last):\n",
      "        File \"<string>\", line 1, in <module>\n",
      "        File \"/private/var/folders/hd/xr2z9snj7yl69m8f9f6z_vg80000gn/T/pip-install-71tt5pji/blis_dbe7cb57d459445984f17b5c5d7d6503/setup.py\", line 239, in <module>\n",
      "          setup(\n",
      "        File \"/Users/punamichowdary/Applications/anaconda3/lib/python3.9/site-packages/setuptools/__init__.py\", line 87, in setup\n",
      "          return distutils.core.setup(**attrs)\n",
      "        File \"/Users/punamichowdary/Applications/anaconda3/lib/python3.9/site-packages/setuptools/_distutils/core.py\", line 148, in setup\n",
      "          return run_commands(dist)\n",
      "        File \"/Users/punamichowdary/Applications/anaconda3/lib/python3.9/site-packages/setuptools/_distutils/core.py\", line 163, in run_commands\n",
      "          dist.run_commands()\n",
      "        File \"/Users/punamichowdary/Applications/anaconda3/lib/python3.9/site-packages/setuptools/_distutils/dist.py\", line 967, in run_commands\n",
      "          self.run_command(cmd)\n",
      "        File \"/Users/punamichowdary/Applications/anaconda3/lib/python3.9/site-packages/setuptools/dist.py\", line 1214, in run_command\n",
      "          super().run_command(command)\n",
      "        File \"/Users/punamichowdary/Applications/anaconda3/lib/python3.9/site-packages/setuptools/_distutils/dist.py\", line 986, in run_command\n",
      "          cmd_obj.run()\n",
      "        File \"/Users/punamichowdary/Applications/anaconda3/lib/python3.9/site-packages/setuptools/command/install.py\", line 68, in run\n",
      "          return orig.install.run(self)\n",
      "        File \"/Users/punamichowdary/Applications/anaconda3/lib/python3.9/site-packages/setuptools/_distutils/command/install.py\", line 664, in run\n",
      "          self.run_command('build')\n",
      "        File \"/Users/punamichowdary/Applications/anaconda3/lib/python3.9/site-packages/setuptools/_distutils/cmd.py\", line 313, in run_command\n",
      "          self.distribution.run_command(command)\n",
      "        File \"/Users/punamichowdary/Applications/anaconda3/lib/python3.9/site-packages/setuptools/dist.py\", line 1214, in run_command\n",
      "          super().run_command(command)\n",
      "        File \"/Users/punamichowdary/Applications/anaconda3/lib/python3.9/site-packages/setuptools/_distutils/dist.py\", line 986, in run_command\n",
      "          cmd_obj.run()\n",
      "        File \"/Users/punamichowdary/Applications/anaconda3/lib/python3.9/site-packages/setuptools/_distutils/command/build.py\", line 135, in run\n",
      "          self.run_command(cmd_name)\n",
      "        File \"/Users/punamichowdary/Applications/anaconda3/lib/python3.9/site-packages/setuptools/_distutils/cmd.py\", line 313, in run_command\n",
      "          self.distribution.run_command(command)\n",
      "        File \"/Users/punamichowdary/Applications/anaconda3/lib/python3.9/site-packages/setuptools/dist.py\", line 1214, in run_command\n",
      "          super().run_command(command)\n",
      "        File \"/Users/punamichowdary/Applications/anaconda3/lib/python3.9/site-packages/setuptools/_distutils/dist.py\", line 986, in run_command\n",
      "          cmd_obj.run()\n",
      "        File \"/Users/punamichowdary/Applications/anaconda3/lib/python3.9/site-packages/setuptools/_distutils/command/build_ext.py\", line 339, in run\n",
      "          self.build_extensions()\n",
      "        File \"/private/var/folders/hd/xr2z9snj7yl69m8f9f6z_vg80000gn/T/pip-install-71tt5pji/blis_dbe7cb57d459445984f17b5c5d7d6503/setup.py\", line 103, in build_extensions\n",
      "          objects = self.compile_objects(compiler.split(\"-\")[0], arch, OBJ_DIR)\n",
      "        File \"/private/var/folders/hd/xr2z9snj7yl69m8f9f6z_vg80000gn/T/pip-install-71tt5pji/blis_dbe7cb57d459445984f17b5c5d7d6503/setup.py\", line 188, in compile_objects\n",
      "          objects.append(self.build_object(env=env, **spec))\n",
      "        File \"/private/var/folders/hd/xr2z9snj7yl69m8f9f6z_vg80000gn/T/pip-install-71tt5pji/blis_dbe7cb57d459445984f17b5c5d7d6503/setup.py\", line 201, in build_object\n",
      "          subprocess.check_call(command, cwd=BLIS_DIR)\n",
      "        File \"/Users/punamichowdary/Applications/anaconda3/lib/python3.9/subprocess.py\", line 373, in check_call\n",
      "          raise CalledProcessError(retcode, cmd)\n",
      "      subprocess.CalledProcessError: Command '['clang', '-c', '/private/var/folders/hd/xr2z9snj7yl69m8f9f6z_vg80000gn/T/pip-install-71tt5pji/blis_dbe7cb57d459445984f17b5c5d7d6503/blis/_src/config/bulldozer/bli_cntx_init_bulldozer.c', '-o', '/var/folders/hd/xr2z9snj7yl69m8f9f6z_vg80000gn/T/tmpnpdapsry/bli_cntx_init_bulldozer.o', '-O3', '-fPIC', '-std=c99', '-D_POSIX_C_SOURCE=200112L', '-DBLIS_VERSION_STRING=\"0.5.1\"', '-DBLIS_IS_BUILDING_LIBRARY', '-Iinclude/darwin-x86_64', '-I./frame/3/', '-I./frame/ind/ukernels/', '-I./frame/1m/', '-I./frame/1f/', '-I./frame/1/', '-I./frame/include', '-I/private/var/folders/hd/xr2z9snj7yl69m8f9f6z_vg80000gn/T/pip-install-71tt5pji/blis_dbe7cb57d459445984f17b5c5d7d6503/blis/_src/include/darwin-x86_64']' returned non-zero exit status 1.\n",
      "      ----------------------------------------\n",
      "  ERROR: Command errored out with exit status 1: /Users/punamichowdary/Applications/anaconda3/bin/python -u -c 'import io, os, sys, setuptools, tokenize; sys.argv[0] = '\"'\"'/private/var/folders/hd/xr2z9snj7yl69m8f9f6z_vg80000gn/T/pip-install-71tt5pji/blis_dbe7cb57d459445984f17b5c5d7d6503/setup.py'\"'\"'; __file__='\"'\"'/private/var/folders/hd/xr2z9snj7yl69m8f9f6z_vg80000gn/T/pip-install-71tt5pji/blis_dbe7cb57d459445984f17b5c5d7d6503/setup.py'\"'\"';f = getattr(tokenize, '\"'\"'open'\"'\"', open)(__file__) if os.path.exists(__file__) else io.StringIO('\"'\"'from setuptools import setup; setup()'\"'\"');code = f.read().replace('\"'\"'\\r\\n'\"'\"', '\"'\"'\\n'\"'\"');f.close();exec(compile(code, __file__, '\"'\"'exec'\"'\"'))' install --record /private/var/folders/hd/xr2z9snj7yl69m8f9f6z_vg80000gn/T/pip-record-en6442o5/install-record.txt --single-version-externally-managed --prefix /private/var/folders/hd/xr2z9snj7yl69m8f9f6z_vg80000gn/T/pip-build-env-mp9f_8bm/overlay --compile --install-headers /private/var/folders/hd/xr2z9snj7yl69m8f9f6z_vg80000gn/T/pip-build-env-mp9f_8bm/overlay/include/python3.9/blis Check the logs for full command output.\n",
      "  ----------------------------------------\u001b[0m\n",
      "\u001b[33mWARNING: Discarding https://files.pythonhosted.org/packages/92/1b/a982be17aa65d61121718f0309a2d8a56a04d6babee4c1a6882965f0d56d/spacy-2.2.4.tar.gz#sha256=f0f3a67c5841e6e35d62c98f40ebb3d132587d3aba4f4dccac5056c4e90ff5b9 (from https://pypi.org/simple/spacy/) (requires-python:!=3.0.*,!=3.1.*,!=3.2.*,!=3.3.*,>=2.7). Command errored out with exit status 1: /Users/punamichowdary/Applications/anaconda3/bin/python /private/var/folders/hd/xr2z9snj7yl69m8f9f6z_vg80000gn/T/pip-standalone-pip-zk4_m3i9/__env_pip__.zip/pip install --ignore-installed --no-user --prefix /private/var/folders/hd/xr2z9snj7yl69m8f9f6z_vg80000gn/T/pip-build-env-mp9f_8bm/overlay --no-warn-script-location --no-binary :none: --only-binary :none: -i https://pypi.org/simple -- setuptools wheel 'cython>=0.25' 'cymem>=2.0.2,<2.1.0' 'preshed>=3.0.2,<3.1.0' 'murmurhash>=0.28.0,<1.1.0' thinc==7.4.0 Check the logs for full command output.\u001b[0m\n",
      "\u001b[31mERROR: Could not find a version that satisfies the requirement spacy==2.2.4 (from versions: 0.31, 0.32, 0.33, 0.40, 0.51, 0.52, 0.60, 0.61, 0.62, 0.63, 0.64, 0.65, 0.67, 0.68, 0.70, 0.80, 0.81, 0.82, 0.83, 0.84, 0.85, 0.86, 0.87, 0.88, 0.89, 0.90, 0.91, 0.92, 0.93, 0.94, 0.95, 0.97, 0.98, 0.99, 0.100.0, 0.100.1, 0.100.2, 0.100.3, 0.100.4, 0.100.5, 0.100.6, 0.100.7, 0.101.0, 1.0.1, 1.0.2, 1.0.3, 1.0.4, 1.0.5, 1.1.0, 1.1.1, 1.1.2, 1.2.0, 1.3.0, 1.4.0, 1.5.0, 1.5.1, 1.6.0, 1.7.0, 1.7.1, 1.7.2, 1.7.3, 1.7.5, 1.8.0, 1.8.1, 1.8.2, 1.9.0, 1.10.0, 1.10.1, 2.0.0, 2.0.1.dev0, 2.0.1, 2.0.2.dev0, 2.0.2, 2.0.3.dev0, 2.0.3, 2.0.4.dev0, 2.0.4, 2.0.5.dev0, 2.0.5, 2.0.6.dev0, 2.0.6, 2.0.7, 2.0.8, 2.0.9, 2.0.10.dev0, 2.0.10, 2.0.11.dev0, 2.0.11, 2.0.12.dev0, 2.0.12.dev1, 2.0.12, 2.0.13.dev0, 2.0.13.dev1, 2.0.13.dev2, 2.0.13.dev4, 2.0.13, 2.0.14.dev0, 2.0.14.dev1, 2.0.15, 2.0.16.dev0, 2.0.16, 2.0.17.dev0, 2.0.17.dev1, 2.0.17, 2.0.18.dev0, 2.0.18.dev1, 2.0.18, 2.1.0, 2.1.1.dev0, 2.1.1, 2.1.2, 2.1.3, 2.1.4, 2.1.5, 2.1.6, 2.1.7.dev0, 2.1.7, 2.1.8, 2.1.9, 2.2.0.dev10, 2.2.0.dev11, 2.2.0.dev13, 2.2.0.dev15, 2.2.0.dev17, 2.2.0.dev18, 2.2.0.dev19, 2.2.0, 2.2.1, 2.2.2.dev0, 2.2.2.dev4, 2.2.2, 2.2.3.dev0, 2.2.3, 2.2.4, 2.3.0.dev1, 2.3.0, 2.3.1, 2.3.2, 2.3.3.dev0, 2.3.3, 2.3.4, 2.3.5, 2.3.6, 2.3.7, 2.3.8, 3.0.0, 3.0.1.dev0, 3.0.1, 3.0.2, 3.0.3, 3.0.4, 3.0.5, 3.0.6, 3.0.7, 3.0.8, 3.1.0, 3.1.1, 3.1.2, 3.1.3, 3.1.4, 3.1.5, 3.1.6, 3.2.0, 3.2.1, 3.2.2, 3.2.3, 3.2.4, 3.3.0.dev0, 3.3.0, 3.3.1, 3.4.0, 3.4.1, 3.4.2, 3.4.3)\u001b[0m\n",
      "\u001b[31mERROR: No matching distribution found for spacy==2.2.4\u001b[0m\n"
     ]
    },
    {
     "name": "stdout",
     "output_type": "stream",
     "text": [
      "\u001b[?25h"
     ]
    }
   ],
   "source": [
    "#Use spacy version 2.2.4 for this notebook\n",
    "!pip install spacy==2.2.4"
   ]
  },
  {
   "cell_type": "code",
   "execution_count": 5,
   "metadata": {
    "collapsed": true
   },
   "outputs": [
    {
     "name": "stdout",
     "output_type": "stream",
     "text": [
      "Collecting textacy\n",
      "  Downloading textacy-0.12.0-py3-none-any.whl (208 kB)\n",
      "\u001b[K     |████████████████████████████████| 208 kB 91 kB/s eta 0:00:011\n",
      "\u001b[?25hRequirement already satisfied: tqdm>=4.19.6 in /Users/punamichowdary/Applications/anaconda3/lib/python3.9/site-packages (from textacy) (4.64.0)\n",
      "Requirement already satisfied: catalogue~=2.0 in /Users/punamichowdary/Applications/anaconda3/lib/python3.9/site-packages (from textacy) (2.0.8)\n",
      "Requirement already satisfied: joblib>=0.13.0 in /Users/punamichowdary/Applications/anaconda3/lib/python3.9/site-packages (from textacy) (1.1.0)\n",
      "Requirement already satisfied: scipy>=0.17.0 in /Users/punamichowdary/Applications/anaconda3/lib/python3.9/site-packages (from textacy) (1.9.0)\n",
      "Requirement already satisfied: pyphen>=0.10.0 in /Users/punamichowdary/Applications/anaconda3/lib/python3.9/site-packages (from textacy) (0.13.2)\n",
      "Requirement already satisfied: cachetools>=4.0.0 in /Users/punamichowdary/Applications/anaconda3/lib/python3.9/site-packages (from textacy) (4.2.2)\n",
      "Requirement already satisfied: scikit-learn>=0.19.0 in /Users/punamichowdary/Applications/anaconda3/lib/python3.9/site-packages (from textacy) (1.1.2)\n",
      "Requirement already satisfied: spacy>=3.0.0 in /Users/punamichowdary/Applications/anaconda3/lib/python3.9/site-packages (from textacy) (3.4.1)\n",
      "Collecting jellyfish>=0.8.0\n",
      "  Using cached jellyfish-0.9.0-cp39-cp39-macosx_10_14_x86_64.whl (25 kB)\n",
      "Requirement already satisfied: cytoolz>=0.10.1 in /Users/punamichowdary/Applications/anaconda3/lib/python3.9/site-packages (from textacy) (0.11.0)\n",
      "Requirement already satisfied: networkx>=2.0 in /Users/punamichowdary/Applications/anaconda3/lib/python3.9/site-packages (from textacy) (2.7.1)\n",
      "Requirement already satisfied: requests>=2.10.0 in /Users/punamichowdary/Applications/anaconda3/lib/python3.9/site-packages (from textacy) (2.27.1)\n",
      "Requirement already satisfied: numpy>=1.17.0 in /Users/punamichowdary/Applications/anaconda3/lib/python3.9/site-packages (from textacy) (1.22.0)\n",
      "Requirement already satisfied: toolz>=0.8.0 in /Users/punamichowdary/Applications/anaconda3/lib/python3.9/site-packages (from cytoolz>=0.10.1->textacy) (0.11.2)\n",
      "Requirement already satisfied: charset-normalizer~=2.0.0 in /Users/punamichowdary/Applications/anaconda3/lib/python3.9/site-packages (from requests>=2.10.0->textacy) (2.0.4)\n",
      "Requirement already satisfied: urllib3<1.27,>=1.21.1 in /Users/punamichowdary/Applications/anaconda3/lib/python3.9/site-packages (from requests>=2.10.0->textacy) (1.26.9)\n",
      "Requirement already satisfied: certifi>=2017.4.17 in /Users/punamichowdary/Applications/anaconda3/lib/python3.9/site-packages (from requests>=2.10.0->textacy) (2022.6.15)\n",
      "Requirement already satisfied: idna<4,>=2.5 in /Users/punamichowdary/Applications/anaconda3/lib/python3.9/site-packages (from requests>=2.10.0->textacy) (3.3)\n",
      "Requirement already satisfied: threadpoolctl>=2.0.0 in /Users/punamichowdary/Applications/anaconda3/lib/python3.9/site-packages (from scikit-learn>=0.19.0->textacy) (2.2.0)\n",
      "Requirement already satisfied: preshed<3.1.0,>=3.0.2 in /Users/punamichowdary/Applications/anaconda3/lib/python3.9/site-packages (from spacy>=3.0.0->textacy) (3.0.7)\n",
      "Requirement already satisfied: spacy-legacy<3.1.0,>=3.0.9 in /Users/punamichowdary/Applications/anaconda3/lib/python3.9/site-packages (from spacy>=3.0.0->textacy) (3.0.10)\n",
      "Requirement already satisfied: langcodes<4.0.0,>=3.2.0 in /Users/punamichowdary/Applications/anaconda3/lib/python3.9/site-packages (from spacy>=3.0.0->textacy) (3.3.0)\n",
      "Requirement already satisfied: cymem<2.1.0,>=2.0.2 in /Users/punamichowdary/Applications/anaconda3/lib/python3.9/site-packages (from spacy>=3.0.0->textacy) (2.0.6)\n",
      "Requirement already satisfied: thinc<8.2.0,>=8.1.0 in /Users/punamichowdary/Applications/anaconda3/lib/python3.9/site-packages (from spacy>=3.0.0->textacy) (8.1.0)\n",
      "Requirement already satisfied: packaging>=20.0 in /Users/punamichowdary/Applications/anaconda3/lib/python3.9/site-packages (from spacy>=3.0.0->textacy) (21.3)\n",
      "Requirement already satisfied: pydantic!=1.8,!=1.8.1,<1.10.0,>=1.7.4 in /Users/punamichowdary/Applications/anaconda3/lib/python3.9/site-packages (from spacy>=3.0.0->textacy) (1.9.2)\n",
      "Requirement already satisfied: wasabi<1.1.0,>=0.9.1 in /Users/punamichowdary/Applications/anaconda3/lib/python3.9/site-packages (from spacy>=3.0.0->textacy) (0.10.1)\n",
      "Requirement already satisfied: spacy-loggers<2.0.0,>=1.0.0 in /Users/punamichowdary/Applications/anaconda3/lib/python3.9/site-packages (from spacy>=3.0.0->textacy) (1.0.3)\n",
      "Requirement already satisfied: murmurhash<1.1.0,>=0.28.0 in /Users/punamichowdary/Applications/anaconda3/lib/python3.9/site-packages (from spacy>=3.0.0->textacy) (1.0.8)\n",
      "Requirement already satisfied: jinja2 in /Users/punamichowdary/Applications/anaconda3/lib/python3.9/site-packages (from spacy>=3.0.0->textacy) (2.11.3)\n",
      "Requirement already satisfied: pathy>=0.3.5 in /Users/punamichowdary/Applications/anaconda3/lib/python3.9/site-packages (from spacy>=3.0.0->textacy) (0.6.2)\n",
      "Requirement already satisfied: setuptools in /Users/punamichowdary/Applications/anaconda3/lib/python3.9/site-packages (from spacy>=3.0.0->textacy) (61.2.0)\n",
      "Requirement already satisfied: srsly<3.0.0,>=2.4.3 in /Users/punamichowdary/Applications/anaconda3/lib/python3.9/site-packages (from spacy>=3.0.0->textacy) (2.4.4)\n",
      "Requirement already satisfied: typer<0.5.0,>=0.3.0 in /Users/punamichowdary/Applications/anaconda3/lib/python3.9/site-packages (from spacy>=3.0.0->textacy) (0.4.2)\n",
      "Requirement already satisfied: pyparsing!=3.0.5,>=2.0.2 in /Users/punamichowdary/Applications/anaconda3/lib/python3.9/site-packages (from packaging>=20.0->spacy>=3.0.0->textacy) (3.0.4)\n",
      "Requirement already satisfied: smart-open<6.0.0,>=5.2.1 in /Users/punamichowdary/Applications/anaconda3/lib/python3.9/site-packages (from pathy>=0.3.5->spacy>=3.0.0->textacy) (5.2.1)\n",
      "Requirement already satisfied: typing-extensions>=3.7.4.3 in /Users/punamichowdary/Applications/anaconda3/lib/python3.9/site-packages (from pydantic!=1.8,!=1.8.1,<1.10.0,>=1.7.4->spacy>=3.0.0->textacy) (4.1.1)\n",
      "Requirement already satisfied: blis<0.8.0,>=0.7.8 in /Users/punamichowdary/Applications/anaconda3/lib/python3.9/site-packages (from thinc<8.2.0,>=8.1.0->spacy>=3.0.0->textacy) (0.7.8)\n",
      "Requirement already satisfied: click<9.0.0,>=7.1.1 in /Users/punamichowdary/Applications/anaconda3/lib/python3.9/site-packages (from typer<0.5.0,>=0.3.0->spacy>=3.0.0->textacy) (8.0.4)\n",
      "Requirement already satisfied: MarkupSafe>=0.23 in /Users/punamichowdary/Applications/anaconda3/lib/python3.9/site-packages (from jinja2->spacy>=3.0.0->textacy) (2.0.1)\n",
      "Installing collected packages: jellyfish, textacy\n",
      "Successfully installed jellyfish-0.9.0 textacy-0.12.0\n"
     ]
    }
   ],
   "source": [
    "!pip install textacy"
   ]
  },
  {
   "cell_type": "code",
   "execution_count": 11,
   "metadata": {},
   "outputs": [],
   "source": [
    "#from textacy import ke; ke.textrank() => \n",
    "\n",
    "from textacy import extract \n",
    "#extract.keyterms.textrank()"
   ]
  },
  {
   "cell_type": "code",
   "execution_count": 14,
   "metadata": {
    "id": "6fjsX2at-PMJ"
   },
   "outputs": [],
   "source": [
    "import textacy\n",
    "import spacy\n",
    "from textacy import *"
   ]
  },
  {
   "cell_type": "code",
   "execution_count": 15,
   "metadata": {
    "id": "hnIbu8J_-PMJ"
   },
   "outputs": [],
   "source": [
    "#Load a spacy model, which will be used for all further processing.\n",
    "en = textacy.load_spacy_lang(\"en_core_web_sm\")"
   ]
  },
  {
   "cell_type": "code",
   "execution_count": 38,
   "metadata": {
    "colab": {
     "base_uri": "https://localhost:8080/",
     "height": 73,
     "resources": {
      "http://localhost:8080/nbextensions/google.colab/files.js": {
       "data": "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",
       "headers": [
        [
         "content-type",
         "application/javascript"
        ]
       ],
       "ok": true,
       "status": 200,
       "status_text": ""
      }
     }
    },
    "id": "ay4RCUtA-PMK",
    "outputId": "164a6abc-b38f-4a9a-beac-7d3f8fa9f78f"
   },
   "outputs": [
    {
     "data": {
      "text/plain": [
       "\"\\ntry :\\n    from google.colab import files\\n    uploaded=files.upload()\\n    mytext = open('nlphistory.txt').read()\\n\\nexcept ModuleNotFoundError :\\n    mytext = open('Data/nlphistory.txt').read()\\n\""
      ]
     },
     "execution_count": 38,
     "metadata": {},
     "output_type": "execute_result"
    }
   ],
   "source": [
    "#Let us use a sample text file, nlphistory.txt, which is the text from the history section of Wikipedia's\n",
    "#page on Natural Language Processing \n",
    "#https://en.wikipedia.org/wiki/Natural_language_processing\n",
    "\n",
    "'''\n",
    "try :\n",
    "    from google.colab import files\n",
    "    uploaded=files.upload()\n",
    "    mytext = open('nlphistory.txt').read()\n",
    "\n",
    "except ModuleNotFoundError :\n",
    "    mytext = open('Data/nlphistory.txt').read()\n",
    "'''\n"
   ]
  },
  {
   "cell_type": "code",
   "execution_count": 22,
   "metadata": {},
   "outputs": [],
   "source": [
    "mytext = open('nlphistory.txt').read()"
   ]
  },
  {
   "cell_type": "code",
   "execution_count": 36,
   "metadata": {
    "scrolled": true
   },
   "outputs": [
    {
     "data": {
      "text/plain": [
       "'The history of natural language processing generally started in the 1950s, although work can be found from earlier periods. In 1950, Alan Turing published an article titled \"Intelligence\" which proposed what is now called the Turing test as a criterion of intelligence.\\n\\nThe Georgetown experiment in 1954 involved fully automatic translation of more than sixty Russian sentences into English. The authors claimed that within three or five years, machine translation would be a solved problem.[2] However, real progress was much slower, and after the ALPAC report in 1966, which found that ten-year-long research had failed to fulfill the expectations, funding for machine translation was dramatically reduced. Little further research in machine translation was conducted until the late 1980s, when the first statistical machine translation systems were developed.\\n\\nSome notably successful natural language processing systems developed in the 1960s were SHRDLU, a natural language system working in restricted \"blocks worlds\" with restricted vocabularies, and ELIZA, a simulation of a Rogerian psychotherapist, written by Joseph Weizenbaum between 1964 and 1966. Using almost no information about human thought or emotion, ELIZA sometimes provided a startlingly human-like interaction. When the \"patient\" exceeded the very small knowledge base, ELIZA might provide a generic response, for example, responding to \"My head hurts\" with \"Why do you say your head hurts?\".\\n\\nDuring the 1970s, many programmers began to write \"conceptual ontologies\", which structured real-world information into computer-understandable data. Examples are MARGIE (Schank, 1975), SAM (Cullingford, 1978), PAM (Wilensky, 1978), TaleSpin (Meehan, 1976), QUALM (Lehnert, 1977), Politics (Carbonell, 1979), and Plot Units (Lehnert 1981). During this time, many chatterbots were written including PARRY, Racter, and Jabberwacky.\\n\\nUp to the 1980s,most natural language processing systems were based on complex sets of hand-written rules. Starting in the late 1980s, however, there was a revolution in natural language processing with the introduction of machine learning algorithms for language processing. This was due to both the steady increase in computational power (see Moore\\'s law) and the gradual lessening of the dominance of Chomskyan theories of linguistics (e.g. transformational grammar), whose theoretical underpinnings discouraged the sort of corpus linguistics that underlies the machine-learning approach to language processing.[3] Some of the earliest-used machine learning algorithms, such as decision trees, produced systems of hard if-then rules similar to existing hand-written rules. However, part-of-speech tagging introduced the use of hidden Markov models to natural language processing, and increasingly, research has focused on statistical models, which make soft, probabilistic decisions based on attaching real-valued weights to the features making up the input data. The cache language models upon which many speech recognition systems now rely are examples of such statistical models. Such models are generally more robust when given unfamiliar input, especially input that contains errors (as is very common for real-world data), and produce more reliable results when integrated into a larger system comprising multiple subtasks.\\n\\nMany of the notable early successes occurred in the field of machine translation, due especially to work at IBM Research, where successively more complicated statistical models were developed. These systems were able to take advantage of existing multilingual textual corpora that had been produced by the Parliament of Canada and the European Union as a result of laws calling for the translation of all governmental proceedings into all official languages of the corresponding systems of government. However, most other systems depended on corpora specifically developed for the tasks implemented by these systems, which was (and often continues to be) a major limitation in the success of these systems. As a result, a great deal of research has gone into methods of more effectively learning from limited amounts of data.\\n\\nRecent research has increasingly focused on unsupervised and semi-supervised learning algorithms. Such algorithms are able to learn from data that has not been hand-annotated with the desired answers, or using a combination of annotated and non-annotated data. Generally, this task is much more difficult than supervised learning, and typically produces less accurate results for a given amount of input data. However, there is an enormous amount of non-annotated data available (including, among other things, the entire content of the World Wide Web), which can often make up for the inferior results if the algorithm used has a low enough time complexity to be practical.\\n\\nIn the 2010s, representation learning and deep neural network-style machine learning methods became widespread in natural language processing, due in part to a flurry of results showing that such techniques[4][5] can achieve state-of-the-art results in many natural language tasks, for example in language modeling,[6] parsing,[7][8] and many others. Popular techniques include the use of word embeddings to capture semantic properties of words, and an increase in end-to-end learning of a higher-level task (e.g., question answering) instead of relying on a pipeline of separate intermediate tasks (e.g., part-of-speech tagging and dependency parsing). In some areas, this shift has entailed substantial changes in how NLP systems are designed, such that deep neural network-based approaches may be viewed as a new paradigm distinct from statistical natural language processing. For instance, the term neural machine translation (NMT) emphasizes the fact that deep learning-based approaches to machine translation directly learn sequence-to-sequence transformations, obviating the need for intermediate steps such as word alignment and language modeling that were used in statistical machine translation (SMT). \\n'"
      ]
     },
     "execution_count": 36,
     "metadata": {},
     "output_type": "execute_result"
    }
   ],
   "source": [
    "mytext"
   ]
  },
  {
   "cell_type": "code",
   "execution_count": 34,
   "metadata": {
    "collapsed": true
   },
   "outputs": [
    {
     "name": "stdout",
     "output_type": "stream",
     "text": [
      "Collecting yake\n",
      "  Downloading yake-0.4.8-py2.py3-none-any.whl (60 kB)\n",
      "\u001b[K     |████████████████████████████████| 60 kB 1.6 MB/s eta 0:00:01\n",
      "\u001b[?25hCollecting segtok\n",
      "  Downloading segtok-1.5.11-py3-none-any.whl (24 kB)\n",
      "Requirement already satisfied: jellyfish in /Users/punamichowdary/Applications/anaconda3/lib/python3.9/site-packages (from yake) (0.9.0)\n",
      "Requirement already satisfied: click>=6.0 in /Users/punamichowdary/Applications/anaconda3/lib/python3.9/site-packages (from yake) (8.0.4)\n",
      "Requirement already satisfied: networkx in /Users/punamichowdary/Applications/anaconda3/lib/python3.9/site-packages (from yake) (2.7.1)\n",
      "Requirement already satisfied: tabulate in /Users/punamichowdary/Applications/anaconda3/lib/python3.9/site-packages (from yake) (0.8.9)\n",
      "Requirement already satisfied: numpy in /Users/punamichowdary/Applications/anaconda3/lib/python3.9/site-packages (from yake) (1.22.0)\n",
      "Requirement already satisfied: regex in /Users/punamichowdary/Applications/anaconda3/lib/python3.9/site-packages (from segtok->yake) (2022.3.15)\n",
      "Installing collected packages: segtok, yake\n",
      "Successfully installed segtok-1.5.11 yake-0.4.8\n"
     ]
    }
   ],
   "source": [
    "!pip install yake"
   ]
  },
  {
   "cell_type": "markdown",
   "metadata": {},
   "source": [
    "## KPE using YAKE"
   ]
  },
  {
   "cell_type": "markdown",
   "metadata": {},
   "source": [
    "#### Yake: Duplication Threshold: \n",
    "- The duplication_threshold variable is limit the duplication of words in different keywords. \n",
    "- You can set the deduplication_threshold value to 0.1 to avoid the repetition of words in keywords. \n",
    "- If you set the deduplication_threshold value to 0.9, then repetition of words is allowed in keywords."
   ]
  },
  {
   "cell_type": "code",
   "execution_count": 43,
   "metadata": {},
   "outputs": [
    {
     "name": "stdout",
     "output_type": "stream",
     "text": [
      "('natural language processing', 0.0050093269807585565)\n",
      "('machine translation', 0.012439847364587604)\n",
      "('language processing systems', 0.018518069049925624)\n",
      "('language', 0.018732781004380805)\n",
      "('Alan Turing published', 0.020560498760414454)\n",
      "('machine', 0.02724600850245841)\n",
      "('systems', 0.03040259164633232)\n",
      "('natural', 0.03546980077209504)\n",
      "('processing', 0.04088189810091457)\n",
      "('machine learning algorithms', 0.0437356437262371)\n",
      "('statistical natural language', 0.04852843819557034)\n",
      "('learning', 0.04998339581629173)\n",
      "('data', 0.05236977416450221)\n",
      "('earlier periods', 0.05277442973458779)\n",
      "('processing generally started', 0.06137274536796684)\n",
      "('research', 0.06433365821139542)\n",
      "('statistical', 0.07138703826719003)\n",
      "('models', 0.07394654627986959)\n",
      "('processing systems developed', 0.07810906316568006)\n",
      "('Turing', 0.08306167542345859)\n"
     ]
    }
   ],
   "source": [
    "import yake\n",
    "kw_extractor = yake.KeywordExtractor()\n",
    "text = mytext\n",
    "language = \"en\"\n",
    "max_ngram_size = 3\n",
    "deduplication_threshold = 0.5\n",
    "numOfKeywords = 20\n",
    "custom_kw_extractor = yake.KeywordExtractor(lan=language, n=max_ngram_size, dedupLim=deduplication_threshold, top=numOfKeywords, features=None)\n",
    "keywords = custom_kw_extractor.extract_keywords(text)\n",
    "for kw in keywords:\n",
    "    print(kw)"
   ]
  },
  {
   "cell_type": "markdown",
   "metadata": {},
   "source": [
    "## KPE using nltk's RAKE"
   ]
  },
  {
   "cell_type": "markdown",
   "metadata": {},
   "source": [
    "#### looks like RAKE is gives the best results "
   ]
  },
  {
   "cell_type": "code",
   "execution_count": 45,
   "metadata": {
    "collapsed": true
   },
   "outputs": [
    {
     "name": "stdout",
     "output_type": "stream",
     "text": [
      "Collecting rake_nltk\n",
      "  Downloading rake_nltk-1.0.6-py3-none-any.whl (9.1 kB)\n",
      "Requirement already satisfied: nltk<4.0.0,>=3.6.2 in /Users/punamichowdary/Applications/anaconda3/lib/python3.9/site-packages (from rake_nltk) (3.7)\n",
      "Requirement already satisfied: click in /Users/punamichowdary/Applications/anaconda3/lib/python3.9/site-packages (from nltk<4.0.0,>=3.6.2->rake_nltk) (8.0.4)\n",
      "Requirement already satisfied: tqdm in /Users/punamichowdary/Applications/anaconda3/lib/python3.9/site-packages (from nltk<4.0.0,>=3.6.2->rake_nltk) (4.64.0)\n",
      "Requirement already satisfied: regex>=2021.8.3 in /Users/punamichowdary/Applications/anaconda3/lib/python3.9/site-packages (from nltk<4.0.0,>=3.6.2->rake_nltk) (2022.3.15)\n",
      "Requirement already satisfied: joblib in /Users/punamichowdary/Applications/anaconda3/lib/python3.9/site-packages (from nltk<4.0.0,>=3.6.2->rake_nltk) (1.1.0)\n",
      "Installing collected packages: rake-nltk\n",
      "Successfully installed rake-nltk-1.0.6\n"
     ]
    }
   ],
   "source": [
    "!pip install rake_nltk"
   ]
  },
  {
   "cell_type": "code",
   "execution_count": 47,
   "metadata": {
    "scrolled": true
   },
   "outputs": [
    {
     "name": "stdout",
     "output_type": "stream",
     "text": [
      "['transformational grammar ), whose theoretical underpinnings discouraged', 'notably successful natural language processing systems developed', 'style machine learning methods became widespread', 'larger system comprising multiple subtasks', '1954 involved fully automatic translation']\n"
     ]
    }
   ],
   "source": [
    "from rake_nltk import Rake\n",
    "rake_nltk_var = Rake()\n",
    "text = mytext\n",
    "rake_nltk_var.extract_keywords_from_text(text)\n",
    "keyword_extracted = rake_nltk_var.get_ranked_phrases()\n",
    "# to restrict the number of keywords use: \n",
    "# keyword_extracted = rake_nltk_var.get_ranked_phrases()[:5]\n",
    "print(keyword_extracted)"
   ]
  },
  {
   "cell_type": "markdown",
   "metadata": {},
   "source": [
    "## KPE using spaCy"
   ]
  },
  {
   "cell_type": "code",
   "execution_count": 49,
   "metadata": {},
   "outputs": [
    {
     "name": "stdout",
     "output_type": "stream",
     "text": [
      "(the 1950s, 1950, Alan Turing, Georgetown, 1954, more than sixty, Russian, English, three or five years, 1966, ten-year-long, the late 1980s, first, the 1960s, SHRDLU, ELIZA, Rogerian, Joseph Weizenbaum, between 1964 and 1966, ELIZA, ELIZA, the 1970s, 1975, SAM, Cullingford, 1978, PAM, Wilensky, 1978, TaleSpin (Meehan,, 1976, QUALM, Lehnert, 1977, Politics, Carbonell, 1979, Plot Units, Lehnert, 1981, PARRY, Racter, Jabberwacky, the 1980s, the late 1980s, Moore, Chomskyan, Markov, IBM Research, the Parliament of Canada, the European Union, the World Wide Web, the 2010s, techniques[4][5, modeling,[6, NLP, NMT, SMT)\n"
     ]
    }
   ],
   "source": [
    "import spacy\n",
    "nlp = spacy.load(\"en_core_web_sm\")\n",
    "text = mytext\n",
    "doc = nlp(text)\n",
    "print(doc.ents)"
   ]
  },
  {
   "cell_type": "markdown",
   "metadata": {},
   "source": [
    "## KPE using spaCy's textacy"
   ]
  },
  {
   "cell_type": "code",
   "execution_count": null,
   "metadata": {},
   "outputs": [],
   "source": [
    "#convert the text into a spacy document.\n",
    "doc = textacy.make_spacy_doc(mytext, lang=en)"
   ]
  },
  {
   "cell_type": "code",
   "execution_count": 52,
   "metadata": {
    "colab": {
     "base_uri": "https://localhost:8080/"
    },
    "id": "K83I_YH5-PML",
    "outputId": "4f154541-7ac4-41a3-935e-c01756e36355"
   },
   "outputs": [
    {
     "ename": "AttributeError",
     "evalue": "module 'textacy' has no attribute 'ke'",
     "output_type": "error",
     "traceback": [
      "\u001b[0;31m---------------------------------------------------------------------------\u001b[0m",
      "\u001b[0;31mAttributeError\u001b[0m                            Traceback (most recent call last)",
      "Input \u001b[0;32mIn [52]\u001b[0m, in \u001b[0;36m<cell line: 1>\u001b[0;34m()\u001b[0m\n\u001b[0;32m----> 1\u001b[0m \u001b[43mtextacy\u001b[49m\u001b[38;5;241;43m.\u001b[39;49m\u001b[43mke\u001b[49m\u001b[38;5;241m.\u001b[39mtextrank(doc\u001b[38;5;241m=\u001b[39mdoc, topn\u001b[38;5;241m=\u001b[39m\u001b[38;5;241m5\u001b[39m)\n",
      "\u001b[0;31mAttributeError\u001b[0m: module 'textacy' has no attribute 'ke'"
     ]
    }
   ],
   "source": [
    "textacy.ke.textrank(doc=doc, topn=5)"
   ]
  },
  {
   "cell_type": "code",
   "execution_count": 53,
   "metadata": {
    "scrolled": true
   },
   "outputs": [
    {
     "ename": "AttributeError",
     "evalue": "module 'scipy.sparse' has no attribute 'coo_array'",
     "output_type": "error",
     "traceback": [
      "\u001b[0;31m---------------------------------------------------------------------------\u001b[0m",
      "\u001b[0;31mAttributeError\u001b[0m                            Traceback (most recent call last)",
      "Input \u001b[0;32mIn [53]\u001b[0m, in \u001b[0;36m<cell line: 2>\u001b[0;34m()\u001b[0m\n\u001b[1;32m      1\u001b[0m \u001b[38;5;66;03m#from textacy import extract \u001b[39;00m\n\u001b[0;32m----> 2\u001b[0m \u001b[43mextract\u001b[49m\u001b[38;5;241;43m.\u001b[39;49m\u001b[43mkeyterms\u001b[49m\u001b[38;5;241;43m.\u001b[39;49m\u001b[43mtextrank\u001b[49m\u001b[43m(\u001b[49m\u001b[43mdoc\u001b[49m\u001b[38;5;241;43m=\u001b[39;49m\u001b[43mdoc\u001b[49m\u001b[43m,\u001b[49m\u001b[43m \u001b[49m\u001b[43mtopn\u001b[49m\u001b[38;5;241;43m=\u001b[39;49m\u001b[38;5;241;43m5\u001b[39;49m\u001b[43m)\u001b[49m\n",
      "File \u001b[0;32m~/Applications/anaconda3/lib/python3.9/site-packages/textacy/extract/keyterms/textrank.py:94\u001b[0m, in \u001b[0;36mtextrank\u001b[0;34m(doc, normalize, include_pos, window_size, edge_weighting, position_bias, topn)\u001b[0m\n\u001b[1;32m     88\u001b[0m \u001b[38;5;66;03m# build a graph from all words in doc, then score them\u001b[39;00m\n\u001b[1;32m     89\u001b[0m graph \u001b[38;5;241m=\u001b[39m representations\u001b[38;5;241m.\u001b[39mnetwork\u001b[38;5;241m.\u001b[39mbuild_cooccurrence_network(\n\u001b[1;32m     90\u001b[0m     \u001b[38;5;28mlist\u001b[39m(ext_utils\u001b[38;5;241m.\u001b[39mterms_to_strings(doc, normalize)),\n\u001b[1;32m     91\u001b[0m     window_size\u001b[38;5;241m=\u001b[39mwindow_size,\n\u001b[1;32m     92\u001b[0m     edge_weighting\u001b[38;5;241m=\u001b[39medge_weighting,\n\u001b[1;32m     93\u001b[0m )\n\u001b[0;32m---> 94\u001b[0m word_scores \u001b[38;5;241m=\u001b[39m \u001b[43mrepresentations\u001b[49m\u001b[38;5;241;43m.\u001b[39;49m\u001b[43mnetwork\u001b[49m\u001b[38;5;241;43m.\u001b[39;49m\u001b[43mrank_nodes_by_pagerank\u001b[49m\u001b[43m(\u001b[49m\n\u001b[1;32m     95\u001b[0m \u001b[43m    \u001b[49m\u001b[43mgraph\u001b[49m\u001b[43m,\u001b[49m\u001b[43m \u001b[49m\u001b[43mweight\u001b[49m\u001b[38;5;241;43m=\u001b[39;49m\u001b[38;5;124;43m\"\u001b[39;49m\u001b[38;5;124;43mweight\u001b[39;49m\u001b[38;5;124;43m\"\u001b[39;49m\u001b[43m,\u001b[49m\u001b[43m \u001b[49m\u001b[43mpersonalization\u001b[49m\u001b[38;5;241;43m=\u001b[39;49m\u001b[43mword_pos\u001b[49m\n\u001b[1;32m     96\u001b[0m \u001b[43m\u001b[49m\u001b[43m)\u001b[49m\n\u001b[1;32m     97\u001b[0m \u001b[38;5;66;03m# generate a list of candidate terms\u001b[39;00m\n\u001b[1;32m     98\u001b[0m candidates \u001b[38;5;241m=\u001b[39m _get_candidates(doc, normalize, include_pos)\n",
      "File \u001b[0;32m~/Applications/anaconda3/lib/python3.9/site-packages/textacy/representations/network.py:267\u001b[0m, in \u001b[0;36mrank_nodes_by_pagerank\u001b[0;34m(graph, weight, **kwargs)\u001b[0m\n\u001b[1;32m    251\u001b[0m \u001b[38;5;28;01mdef\u001b[39;00m \u001b[38;5;21mrank_nodes_by_pagerank\u001b[39m(\n\u001b[1;32m    252\u001b[0m     graph: nx\u001b[38;5;241m.\u001b[39mGraph,\n\u001b[1;32m    253\u001b[0m     weight: \u001b[38;5;28mstr\u001b[39m \u001b[38;5;241m=\u001b[39m \u001b[38;5;124m\"\u001b[39m\u001b[38;5;124mweight\u001b[39m\u001b[38;5;124m\"\u001b[39m,\n\u001b[1;32m    254\u001b[0m     \u001b[38;5;241m*\u001b[39m\u001b[38;5;241m*\u001b[39mkwargs,\n\u001b[1;32m    255\u001b[0m ) \u001b[38;5;241m-\u001b[39m\u001b[38;5;241m>\u001b[39m Dict[Any, \u001b[38;5;28mfloat\u001b[39m]:\n\u001b[1;32m    256\u001b[0m     \u001b[38;5;124;03m\"\"\"\u001b[39;00m\n\u001b[1;32m    257\u001b[0m \u001b[38;5;124;03m    Rank nodes in ``graph`` using the Pagegrank algorithm.\u001b[39;00m\n\u001b[1;32m    258\u001b[0m \n\u001b[0;32m   (...)\u001b[0m\n\u001b[1;32m    265\u001b[0m \u001b[38;5;124;03m        Mapping of node object to Pagerank score.\u001b[39;00m\n\u001b[1;32m    266\u001b[0m \u001b[38;5;124;03m    \"\"\"\u001b[39;00m\n\u001b[0;32m--> 267\u001b[0m     \u001b[38;5;28;01mreturn\u001b[39;00m \u001b[43mnx\u001b[49m\u001b[38;5;241;43m.\u001b[39;49m\u001b[43mpagerank_scipy\u001b[49m\u001b[43m(\u001b[49m\u001b[43mgraph\u001b[49m\u001b[43m,\u001b[49m\u001b[43m \u001b[49m\u001b[43mweight\u001b[49m\u001b[38;5;241;43m=\u001b[39;49m\u001b[43mweight\u001b[49m\u001b[43m,\u001b[49m\u001b[43m \u001b[49m\u001b[38;5;241;43m*\u001b[39;49m\u001b[38;5;241;43m*\u001b[39;49m\u001b[43mkwargs\u001b[49m\u001b[43m)\u001b[49m\n",
      "File \u001b[0;32m~/Applications/anaconda3/lib/python3.9/site-packages/networkx/algorithms/link_analysis/pagerank_alg.py:469\u001b[0m, in \u001b[0;36mpagerank_scipy\u001b[0;34m(G, alpha, personalization, max_iter, tol, nstart, weight, dangling)\u001b[0m\n\u001b[1;32m    466\u001b[0m     \u001b[38;5;28;01mreturn\u001b[39;00m {}\n\u001b[1;32m    468\u001b[0m nodelist \u001b[38;5;241m=\u001b[39m \u001b[38;5;28mlist\u001b[39m(G)\n\u001b[0;32m--> 469\u001b[0m A \u001b[38;5;241m=\u001b[39m \u001b[43mnx\u001b[49m\u001b[38;5;241;43m.\u001b[39;49m\u001b[43mto_scipy_sparse_array\u001b[49m\u001b[43m(\u001b[49m\u001b[43mG\u001b[49m\u001b[43m,\u001b[49m\u001b[43m \u001b[49m\u001b[43mnodelist\u001b[49m\u001b[38;5;241;43m=\u001b[39;49m\u001b[43mnodelist\u001b[49m\u001b[43m,\u001b[49m\u001b[43m \u001b[49m\u001b[43mweight\u001b[49m\u001b[38;5;241;43m=\u001b[39;49m\u001b[43mweight\u001b[49m\u001b[43m,\u001b[49m\u001b[43m \u001b[49m\u001b[43mdtype\u001b[49m\u001b[38;5;241;43m=\u001b[39;49m\u001b[38;5;28;43mfloat\u001b[39;49m\u001b[43m)\u001b[49m\n\u001b[1;32m    470\u001b[0m S \u001b[38;5;241m=\u001b[39m A\u001b[38;5;241m.\u001b[39msum(axis\u001b[38;5;241m=\u001b[39m\u001b[38;5;241m1\u001b[39m)\n\u001b[1;32m    471\u001b[0m S[S \u001b[38;5;241m!=\u001b[39m \u001b[38;5;241m0\u001b[39m] \u001b[38;5;241m=\u001b[39m \u001b[38;5;241m1.0\u001b[39m \u001b[38;5;241m/\u001b[39m S[S \u001b[38;5;241m!=\u001b[39m \u001b[38;5;241m0\u001b[39m]\n",
      "File \u001b[0;32m~/Applications/anaconda3/lib/python3.9/site-packages/networkx/convert_matrix.py:921\u001b[0m, in \u001b[0;36mto_scipy_sparse_array\u001b[0;34m(G, nodelist, dtype, weight, format)\u001b[0m\n\u001b[1;32m    919\u001b[0m         r \u001b[38;5;241m+\u001b[39m\u001b[38;5;241m=\u001b[39m diag_index\n\u001b[1;32m    920\u001b[0m         c \u001b[38;5;241m+\u001b[39m\u001b[38;5;241m=\u001b[39m diag_index\n\u001b[0;32m--> 921\u001b[0m     A \u001b[38;5;241m=\u001b[39m \u001b[43msp\u001b[49m\u001b[38;5;241;43m.\u001b[39;49m\u001b[43msparse\u001b[49m\u001b[38;5;241;43m.\u001b[39;49m\u001b[43mcoo_array\u001b[49m((d, (r, c)), shape\u001b[38;5;241m=\u001b[39m(nlen, nlen), dtype\u001b[38;5;241m=\u001b[39mdtype)\n\u001b[1;32m    922\u001b[0m \u001b[38;5;28;01mtry\u001b[39;00m:\n\u001b[1;32m    923\u001b[0m     \u001b[38;5;28;01mreturn\u001b[39;00m A\u001b[38;5;241m.\u001b[39masformat(\u001b[38;5;28mformat\u001b[39m)\n",
      "\u001b[0;31mAttributeError\u001b[0m: module 'scipy.sparse' has no attribute 'coo_array'"
     ]
    }
   ],
   "source": [
    "#from textacy import extract \n",
    "extract.keyterms.textrank(doc=doc, topn=5)"
   ]
  },
  {
   "cell_type": "code",
   "execution_count": 9,
   "metadata": {
    "colab": {
     "base_uri": "https://localhost:8080/"
    },
    "id": "5I_-bohZ-PML",
    "outputId": "d6a28b63-f35f-4487-b879-7fdeb77d2e0c"
   },
   "outputs": [
    {
     "name": "stdout",
     "output_type": "stream",
     "text": [
      "Textrank output:  ['successful natural language processing system', 'statistical machine translation system', 'natural language system', 'statistical natural language processing', 'natural language task']\n",
      "SGRank output:  ['natural language processing system', 'statistical machine translation', 'research', 'late 1980', 'early']\n"
     ]
    }
   ],
   "source": [
    "#Print the keywords using TextRank algorithm, as implemented in Textacy.\n",
    "print(\"Textrank output: \", [kps for kps, weights in textacy.ke.textrank(doc, normalize=\"lemma\", topn=5)])\\\n",
    "#Print the key words and phrases, using SGRank algorithm, as implemented in Textacy\n",
    "print(\"SGRank output: \", [kps for kps, weights in textacy.ke.sgrank(doc, topn=5)])\n"
   ]
  },
  {
   "cell_type": "code",
   "execution_count": 10,
   "metadata": {
    "colab": {
     "base_uri": "https://localhost:8080/"
    },
    "id": "PySOp4Os-PMM",
    "outputId": "fc19f928-32f9-4b0b-c6a7-41042f33973f"
   },
   "outputs": [
    {
     "name": "stdout",
     "output_type": "stream",
     "text": [
      "[{'natural language processing system'}, {'statistical machine translation'}, {'statistical model'}, {'late 1980'}, {'research'}, {'example'}, {'early'}, {'world'}, {'ELIZA'}, {'real'}]\n"
     ]
    }
   ],
   "source": [
    "#To address the issue of overlapping key phrases, textacy has a function: aggregage_term_variants.\n",
    "#Choosing one of the grouped terms per item will give us a list of non-overlapping key phrases!\n",
    "terms = set([term for term,weight in textacy.ke.sgrank(doc)])\n",
    "print(textacy.ke.utils.aggregate_term_variants(terms))"
   ]
  },
  {
   "cell_type": "code",
   "execution_count": 11,
   "metadata": {
    "colab": {
     "base_uri": "https://localhost:8080/"
    },
    "id": "81sJfTis-PMM",
    "outputId": "05f268ba-9b64-4ebb-f53f-5fac07710211"
   },
   "outputs": [
    {
     "name": "stdout",
     "output_type": "stream",
     "text": [
      "[history, natural language processing, 1950s, work, earlier periods, Alan Turing, article, what, criterion, intelligence, Georgetown experiment, fully automatic translation, more than sixty Russian sentences, English, authors, three or five years, machine translation, real progress, ALPAC report, ten-year-long research, expectations, machine translation, Little further research, machine translation, late 1980s, first statistical machine translation systems, notably successful natural language processing systems, SHRDLU, natural language system, restricted \"blocks worlds, restricted vocabularies, ELIZA, simulation, Rogerian psychotherapist, Joseph Weizenbaum, almost no information, human thought, emotion, ELIZA, startlingly human-like interaction, \"patient, very small knowledge base, ELIZA, generic response, example, head, you, head, 1970s, many programmers, \"conceptual ontologies, real-world information, computer-understandable data, Examples, MARGIE, Schank, Cullingford, (Wilensky, Lehnert, (Carbonell, Lehnert, time, many chatterbots, PARRY, Racter, Jabberwacky, 1980s, most natural language processing systems, complex sets, hand-written rules, late 1980s, revolution, natural language processing, introduction, algorithms, language processing, both the steady increase, computational power, Moore's law, dominance, Chomskyan theories, linguistics, (e.g. transformational grammar, theoretical underpinnings, sort, corpus linguistics, machine-learning approach, language processing.[3, earliest-used machine learning algorithms, decision trees, produced systems, if-then rules, existing hand-written rules, speech, use, hidden Markov models, natural language processing, research, statistical models, soft, probabilistic decisions, real-valued weights, features, input data, cache language models, many speech recognition systems, examples, such statistical models, Such models, unfamiliar input, errors, real-world data, more reliable results, larger system, multiple subtasks, notable early successes, field, machine translation, IBM Research, successively more complicated statistical models, systems, advantage, existing multilingual textual corpora, Parliament, Canada, European Union, result, laws, translation, governmental proceedings, official languages, corresponding systems, government, most other systems, corpora, tasks, systems, major limitation, success, systems, result, great deal, research, methods, limited amounts, data, Recent research, unsupervised and semi-supervised learning algorithms, Such algorithms, data, desired answers, combination, annotated and non-annotated data, task, supervised learning, less accurate results, given amount, input data, enormous amount, non-annotated data, other things, entire content, World Wide Web, inferior results, algorithm, low enough time complexity, 2010s, representation learning, deep neural network-style machine learning methods, natural language processing, part, flurry, results, such techniques[4][5, -art, many natural language tasks, example, language, modeling,[6] parsing,[7][8, many others, Popular techniques, use, word embeddings, semantic properties, words, increase, end, higher-level task, (e.g., question answering, pipeline, separate intermediate tasks, speech, dependency parsing, areas, shift, substantial changes, NLP systems, deep neural network-based approaches, statistical natural language processing, instance, term neural machine translation, NMT, fact, that deep learning-based approaches, machine translation, sequence, need, intermediate steps, word alignment, language modeling, statistical machine translation, SMT]\n"
     ]
    }
   ],
   "source": [
    "#A way to look at key phrases is just consider all noun chunks as potential ones. \n",
    "#However, keep in mind this will result in a lot of phrases, and no way to rank them!\n",
    "\n",
    "print([chunk for chunk in textacy.extract.noun_chunks(doc)])"
   ]
  },
  {
   "cell_type": "markdown",
   "metadata": {
    "id": "IryG-zS4-PMN"
   },
   "source": [
    "Textacy also has a bunch of other information extraction functions, many of them based on regular expression patterns and heuristics to address extracting specific expressions such as acronyms and quotations. Apart from these, we can also extract matching custom regular expressions including POS tag patterns, or look for statements involving an entity, subject-verb-object tuples etc. We will discuss some of these as they come, in this chapter. \n",
    "\n",
    "Documentation: https://chartbeat-labs.github.io/textacy/build/html/index.html"
   ]
  }
 ],
 "metadata": {
  "accelerator": "GPU",
  "colab": {
   "name": "01_KPE.ipynb",
   "provenance": []
  },
  "kernelspec": {
   "display_name": "Python 3 (ipykernel)",
   "language": "python",
   "name": "python3"
  },
  "language_info": {
   "codemirror_mode": {
    "name": "ipython",
    "version": 3
   },
   "file_extension": ".py",
   "mimetype": "text/x-python",
   "name": "python",
   "nbconvert_exporter": "python",
   "pygments_lexer": "ipython3",
   "version": "3.9.12"
  }
 },
 "nbformat": 4,
 "nbformat_minor": 1
}
